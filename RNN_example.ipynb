{
 "cells": [
  {
   "cell_type": "code",
   "execution_count": 1,
   "metadata": {},
   "outputs": [],
   "source": [
    "import pandas as pd\n",
    "import numpy as np\n",
    "from collections import Counter\n",
    "import tensorflow as tf\n",
    "%matplotlib inline"
   ]
  },
  {
   "cell_type": "code",
   "execution_count": 3,
   "metadata": {},
   "outputs": [],
   "source": [
    "# dataset을 불러옵니다.\n",
    "\n",
    "cg = pd.read_csv('medical_checkup_mean.csv')\n",
    "\n",
    "cg_df = pd.DataFrame(cg)\n",
    "\n",
    "del cg_df['Unnamed: 0']\n",
    "\n",
    "cg_df = cg_df.sort_values(by=['person_id','test_age'])"
   ]
  },
  {
   "cell_type": "markdown",
   "metadata": {},
   "source": [
    "#### 여러 회차에 걸친 위염환자들의 건강검진 데이터"
   ]
  },
  {
   "cell_type": "code",
   "execution_count": 4,
   "metadata": {},
   "outputs": [
    {
     "data": {
      "text/html": [
       "<div>\n",
       "<style scoped>\n",
       "    .dataframe tbody tr th:only-of-type {\n",
       "        vertical-align: middle;\n",
       "    }\n",
       "\n",
       "    .dataframe tbody tr th {\n",
       "        vertical-align: top;\n",
       "    }\n",
       "\n",
       "    .dataframe thead th {\n",
       "        text-align: right;\n",
       "    }\n",
       "</style>\n",
       "<table border=\"1\" class=\"dataframe\">\n",
       "  <thead>\n",
       "    <tr style=\"text-align: right;\">\n",
       "      <th></th>\n",
       "      <th>person_id</th>\n",
       "      <th>gender</th>\n",
       "      <th>age</th>\n",
       "      <th>date</th>\n",
       "      <th>bmi</th>\n",
       "      <th>smoking status</th>\n",
       "      <th>smoking_duration</th>\n",
       "      <th>amount of smoking</th>\n",
       "      <th>alcohol_habit</th>\n",
       "      <th>income</th>\n",
       "      <th>family_cancer</th>\n",
       "      <th>test_age</th>\n",
       "      <th>cancer</th>\n",
       "    </tr>\n",
       "  </thead>\n",
       "  <tbody>\n",
       "    <tr>\n",
       "      <th>0</th>\n",
       "      <td>10224187</td>\n",
       "      <td>0</td>\n",
       "      <td>75</td>\n",
       "      <td>2009</td>\n",
       "      <td>17.360000</td>\n",
       "      <td>3.0</td>\n",
       "      <td>5</td>\n",
       "      <td>2</td>\n",
       "      <td>1.0</td>\n",
       "      <td>2.0</td>\n",
       "      <td>1</td>\n",
       "      <td>64</td>\n",
       "      <td>0</td>\n",
       "    </tr>\n",
       "    <tr>\n",
       "      <th>1</th>\n",
       "      <td>10224187</td>\n",
       "      <td>0</td>\n",
       "      <td>75</td>\n",
       "      <td>2009</td>\n",
       "      <td>17.360000</td>\n",
       "      <td>3.0</td>\n",
       "      <td>1</td>\n",
       "      <td>2</td>\n",
       "      <td>1.0</td>\n",
       "      <td>2.0</td>\n",
       "      <td>1</td>\n",
       "      <td>64</td>\n",
       "      <td>0</td>\n",
       "    </tr>\n",
       "    <tr>\n",
       "      <th>2</th>\n",
       "      <td>10410714</td>\n",
       "      <td>0</td>\n",
       "      <td>70</td>\n",
       "      <td>2009</td>\n",
       "      <td>28.010000</td>\n",
       "      <td>3.0</td>\n",
       "      <td>5</td>\n",
       "      <td>4</td>\n",
       "      <td>1.0</td>\n",
       "      <td>7.0</td>\n",
       "      <td>1</td>\n",
       "      <td>59</td>\n",
       "      <td>1</td>\n",
       "    </tr>\n",
       "    <tr>\n",
       "      <th>3</th>\n",
       "      <td>10410714</td>\n",
       "      <td>0</td>\n",
       "      <td>70</td>\n",
       "      <td>2013</td>\n",
       "      <td>25.510000</td>\n",
       "      <td>3.0</td>\n",
       "      <td>4</td>\n",
       "      <td>1</td>\n",
       "      <td>1.0</td>\n",
       "      <td>7.0</td>\n",
       "      <td>1</td>\n",
       "      <td>63</td>\n",
       "      <td>1</td>\n",
       "    </tr>\n",
       "    <tr>\n",
       "      <th>4</th>\n",
       "      <td>10485977</td>\n",
       "      <td>0</td>\n",
       "      <td>53</td>\n",
       "      <td>2012</td>\n",
       "      <td>27.460000</td>\n",
       "      <td>3.0</td>\n",
       "      <td>4</td>\n",
       "      <td>3</td>\n",
       "      <td>4.0</td>\n",
       "      <td>10.0</td>\n",
       "      <td>1</td>\n",
       "      <td>45</td>\n",
       "      <td>0</td>\n",
       "    </tr>\n",
       "    <tr>\n",
       "      <th>...</th>\n",
       "      <td>...</td>\n",
       "      <td>...</td>\n",
       "      <td>...</td>\n",
       "      <td>...</td>\n",
       "      <td>...</td>\n",
       "      <td>...</td>\n",
       "      <td>...</td>\n",
       "      <td>...</td>\n",
       "      <td>...</td>\n",
       "      <td>...</td>\n",
       "      <td>...</td>\n",
       "      <td>...</td>\n",
       "      <td>...</td>\n",
       "    </tr>\n",
       "    <tr>\n",
       "      <th>1044</th>\n",
       "      <td>53078031</td>\n",
       "      <td>0</td>\n",
       "      <td>80</td>\n",
       "      <td>2009</td>\n",
       "      <td>23.457522</td>\n",
       "      <td>3.0</td>\n",
       "      <td>5</td>\n",
       "      <td>3</td>\n",
       "      <td>1.0</td>\n",
       "      <td>8.0</td>\n",
       "      <td>1</td>\n",
       "      <td>69</td>\n",
       "      <td>1</td>\n",
       "    </tr>\n",
       "    <tr>\n",
       "      <th>1045</th>\n",
       "      <td>53346919</td>\n",
       "      <td>0</td>\n",
       "      <td>76</td>\n",
       "      <td>2005</td>\n",
       "      <td>20.830000</td>\n",
       "      <td>3.0</td>\n",
       "      <td>5</td>\n",
       "      <td>3</td>\n",
       "      <td>1.0</td>\n",
       "      <td>5.0</td>\n",
       "      <td>1</td>\n",
       "      <td>61</td>\n",
       "      <td>0</td>\n",
       "    </tr>\n",
       "    <tr>\n",
       "      <th>1046</th>\n",
       "      <td>53369201</td>\n",
       "      <td>0</td>\n",
       "      <td>74</td>\n",
       "      <td>2002</td>\n",
       "      <td>23.457522</td>\n",
       "      <td>3.0</td>\n",
       "      <td>4</td>\n",
       "      <td>1</td>\n",
       "      <td>1.0</td>\n",
       "      <td>7.0</td>\n",
       "      <td>1</td>\n",
       "      <td>56</td>\n",
       "      <td>1</td>\n",
       "    </tr>\n",
       "    <tr>\n",
       "      <th>1047</th>\n",
       "      <td>53369201</td>\n",
       "      <td>0</td>\n",
       "      <td>74</td>\n",
       "      <td>2004</td>\n",
       "      <td>23.457522</td>\n",
       "      <td>3.0</td>\n",
       "      <td>5</td>\n",
       "      <td>1</td>\n",
       "      <td>1.0</td>\n",
       "      <td>8.0</td>\n",
       "      <td>1</td>\n",
       "      <td>58</td>\n",
       "      <td>1</td>\n",
       "    </tr>\n",
       "    <tr>\n",
       "      <th>1048</th>\n",
       "      <td>53369201</td>\n",
       "      <td>0</td>\n",
       "      <td>74</td>\n",
       "      <td>2006</td>\n",
       "      <td>23.457522</td>\n",
       "      <td>3.0</td>\n",
       "      <td>5</td>\n",
       "      <td>1</td>\n",
       "      <td>1.0</td>\n",
       "      <td>8.0</td>\n",
       "      <td>1</td>\n",
       "      <td>60</td>\n",
       "      <td>1</td>\n",
       "    </tr>\n",
       "  </tbody>\n",
       "</table>\n",
       "<p>1049 rows × 13 columns</p>\n",
       "</div>"
      ],
      "text/plain": [
       "      person_id  gender  age  date        bmi  smoking status  \\\n",
       "0      10224187       0   75  2009  17.360000             3.0   \n",
       "1      10224187       0   75  2009  17.360000             3.0   \n",
       "2      10410714       0   70  2009  28.010000             3.0   \n",
       "3      10410714       0   70  2013  25.510000             3.0   \n",
       "4      10485977       0   53  2012  27.460000             3.0   \n",
       "...         ...     ...  ...   ...        ...             ...   \n",
       "1044   53078031       0   80  2009  23.457522             3.0   \n",
       "1045   53346919       0   76  2005  20.830000             3.0   \n",
       "1046   53369201       0   74  2002  23.457522             3.0   \n",
       "1047   53369201       0   74  2004  23.457522             3.0   \n",
       "1048   53369201       0   74  2006  23.457522             3.0   \n",
       "\n",
       "      smoking_duration  amount of smoking  alcohol_habit  income  \\\n",
       "0                    5                  2            1.0     2.0   \n",
       "1                    1                  2            1.0     2.0   \n",
       "2                    5                  4            1.0     7.0   \n",
       "3                    4                  1            1.0     7.0   \n",
       "4                    4                  3            4.0    10.0   \n",
       "...                ...                ...            ...     ...   \n",
       "1044                 5                  3            1.0     8.0   \n",
       "1045                 5                  3            1.0     5.0   \n",
       "1046                 4                  1            1.0     7.0   \n",
       "1047                 5                  1            1.0     8.0   \n",
       "1048                 5                  1            1.0     8.0   \n",
       "\n",
       "      family_cancer  test_age  cancer  \n",
       "0                 1        64       0  \n",
       "1                 1        64       0  \n",
       "2                 1        59       1  \n",
       "3                 1        63       1  \n",
       "4                 1        45       0  \n",
       "...             ...       ...     ...  \n",
       "1044              1        69       1  \n",
       "1045              1        61       0  \n",
       "1046              1        56       1  \n",
       "1047              1        58       1  \n",
       "1048              1        60       1  \n",
       "\n",
       "[1049 rows x 13 columns]"
      ]
     },
     "execution_count": 4,
     "metadata": {},
     "output_type": "execute_result"
    }
   ],
   "source": [
    "cg_df"
   ]
  },
  {
   "cell_type": "code",
   "execution_count": 9,
   "metadata": {},
   "outputs": [
    {
     "data": {
      "text/plain": [
       "Index(['person_id', 'gender', 'age', 'date', 'bmi', 'smoking status',\n",
       "       'smoking_duration', 'amount of smoking', 'alcohol_habit', 'income',\n",
       "       'family_cancer', 'test_age', 'cancer'],\n",
       "      dtype='object')"
      ]
     },
     "execution_count": 9,
     "metadata": {},
     "output_type": "execute_result"
    }
   ],
   "source": [
    "cg_df.columns"
   ]
  },
  {
   "cell_type": "markdown",
   "metadata": {},
   "source": [
    "### y_label 생성 \n",
    "##### 한사람 당 여러 회차의 기록이 있어 person_id와 cancer 여부가 중복 되므로 \n",
    "##### 이를 고려하여 중복을 제거하여 레이블을 생성"
   ]
  },
  {
   "cell_type": "code",
   "execution_count": 21,
   "metadata": {},
   "outputs": [],
   "source": [
    "# Y_label\n",
    "\n",
    "cg_y = cg_df.loc[:,['person_id','cancer']]\n",
    "cg_y = cg_y.drop_duplicates(['person_id'])\n",
    "\n",
    "y_label = cg_y['cancer']"
   ]
  },
  {
   "cell_type": "code",
   "execution_count": 22,
   "metadata": {},
   "outputs": [
    {
     "data": {
      "text/html": [
       "<div>\n",
       "<style scoped>\n",
       "    .dataframe tbody tr th:only-of-type {\n",
       "        vertical-align: middle;\n",
       "    }\n",
       "\n",
       "    .dataframe tbody tr th {\n",
       "        vertical-align: top;\n",
       "    }\n",
       "\n",
       "    .dataframe thead th {\n",
       "        text-align: right;\n",
       "    }\n",
       "</style>\n",
       "<table border=\"1\" class=\"dataframe\">\n",
       "  <thead>\n",
       "    <tr style=\"text-align: right;\">\n",
       "      <th></th>\n",
       "      <th>person_id</th>\n",
       "      <th>cancer</th>\n",
       "    </tr>\n",
       "  </thead>\n",
       "  <tbody>\n",
       "    <tr>\n",
       "      <th>0</th>\n",
       "      <td>10224187</td>\n",
       "      <td>0</td>\n",
       "    </tr>\n",
       "    <tr>\n",
       "      <th>2</th>\n",
       "      <td>10410714</td>\n",
       "      <td>1</td>\n",
       "    </tr>\n",
       "    <tr>\n",
       "      <th>4</th>\n",
       "      <td>10485977</td>\n",
       "      <td>0</td>\n",
       "    </tr>\n",
       "    <tr>\n",
       "      <th>5</th>\n",
       "      <td>10486529</td>\n",
       "      <td>0</td>\n",
       "    </tr>\n",
       "    <tr>\n",
       "      <th>8</th>\n",
       "      <td>10879002</td>\n",
       "      <td>0</td>\n",
       "    </tr>\n",
       "    <tr>\n",
       "      <th>...</th>\n",
       "      <td>...</td>\n",
       "      <td>...</td>\n",
       "    </tr>\n",
       "    <tr>\n",
       "      <th>1039</th>\n",
       "      <td>52430195</td>\n",
       "      <td>0</td>\n",
       "    </tr>\n",
       "    <tr>\n",
       "      <th>1042</th>\n",
       "      <td>52560487</td>\n",
       "      <td>0</td>\n",
       "    </tr>\n",
       "    <tr>\n",
       "      <th>1044</th>\n",
       "      <td>53078031</td>\n",
       "      <td>1</td>\n",
       "    </tr>\n",
       "    <tr>\n",
       "      <th>1045</th>\n",
       "      <td>53346919</td>\n",
       "      <td>0</td>\n",
       "    </tr>\n",
       "    <tr>\n",
       "      <th>1046</th>\n",
       "      <td>53369201</td>\n",
       "      <td>1</td>\n",
       "    </tr>\n",
       "  </tbody>\n",
       "</table>\n",
       "<p>500 rows × 2 columns</p>\n",
       "</div>"
      ],
      "text/plain": [
       "      person_id  cancer\n",
       "0      10224187       0\n",
       "2      10410714       1\n",
       "4      10485977       0\n",
       "5      10486529       0\n",
       "8      10879002       0\n",
       "...         ...     ...\n",
       "1039   52430195       0\n",
       "1042   52560487       0\n",
       "1044   53078031       1\n",
       "1045   53346919       0\n",
       "1046   53369201       1\n",
       "\n",
       "[500 rows x 2 columns]"
      ]
     },
     "execution_count": 22,
     "metadata": {},
     "output_type": "execute_result"
    }
   ],
   "source": [
    "cg_y"
   ]
  },
  {
   "cell_type": "code",
   "execution_count": 23,
   "metadata": {},
   "outputs": [
    {
     "data": {
      "text/plain": [
       "Counter({0: 250, 1: 250})"
      ]
     },
     "execution_count": 23,
     "metadata": {},
     "output_type": "execute_result"
    }
   ],
   "source": [
    "# y_label\n",
    "Counter(y_label)"
   ]
  },
  {
   "cell_type": "markdown",
   "metadata": {},
   "source": [
    "### 전처리 단계\n",
    "##### 수치형 변수에 대해 범주형 변수와 비교할 때 값의 차이가 크므로\n",
    "##### 이를 보완하기 위해 정규형으로 변환하는 전처리를 실시"
   ]
  },
  {
   "cell_type": "code",
   "execution_count": 10,
   "metadata": {},
   "outputs": [],
   "source": [
    "from sklearn.base import BaseEstimator, TransformerMixin\n",
    "from sklearn.pipeline import Pipeline\n",
    "from sklearn.preprocessing import StandardScaler\n",
    "from sklearn.pipeline import FeatureUnion\n",
    "\n",
    "\n",
    "class DataFrameSelector(BaseEstimator, TransformerMixin):\n",
    "    def __init__(self, attribute_names):\n",
    "        self.attribute_names=attribute_names\n",
    "    def fit(self, X, y=None):\n",
    "        return self\n",
    "    def transform(self, X):\n",
    "        return X[self.attribute_names]"
   ]
  },
  {
   "cell_type": "code",
   "execution_count": 11,
   "metadata": {},
   "outputs": [],
   "source": [
    "def pipeline(df):\n",
    "\n",
    "    num_pipeline=Pipeline([\n",
    "        (\"select_numeric\",DataFrameSelector(['bmi','age','test_age'])),\n",
    "        (\"scaler\", StandardScaler())])\n",
    "\n",
    "    cat_pipeline = Pipeline([\n",
    "        (\"select_cat\",DataFrameSelector(['gender','smoking status','smoking_duration','amount of smoking','alcohol_habit','income','family_cancer']))])\n",
    "    \n",
    "    preprocess_pipeline = FeatureUnion(transformer_list=[\n",
    "    (\"num_pipeline\", num_pipeline),\n",
    "    (\"cat_pipeline\", cat_pipeline)])\n",
    "    \n",
    "    X=preprocess_pipeline.fit_transform(df)\n",
    "    \n",
    "    return X"
   ]
  },
  {
   "cell_type": "markdown",
   "metadata": {},
   "source": [
    "### 2차원 데이터를 3차원으로 변환하는 과정\n",
    "##### 환자의 개인별  n년치 건강검진 데이터이므로,\n",
    "##### 환자별로 학습이 이뤄지기 위해서 기존 표 형식과 같은 2차원 데이터에서\n",
    "##### 시간의 순서를 고려한 3차원 데이터로의 변환이 필요함."
   ]
  },
  {
   "cell_type": "code",
   "execution_count": 15,
   "metadata": {},
   "outputs": [],
   "source": [
    "def make_metrics(df, X):\n",
    "    \n",
    "    person_id = df['person_id']\n",
    "    ids = person_id.iloc[0]\n",
    "    new_mat = []\n",
    "    person=[]\n",
    "\n",
    "    for i in range(len(df)):  \n",
    "        if ids == person_id.iloc[i]:\n",
    "            person.append(X[i])\n",
    "            ids = person_id.iloc[i]\n",
    "        else:\n",
    "            new_mat.append(person)\n",
    "            person=[]\n",
    "            person.append(X[i])\n",
    "            ids = person_id.iloc[i]\n",
    "    new_mat.append(person)\n",
    "    \n",
    "    return new_mat"
   ]
  },
  {
   "cell_type": "markdown",
   "metadata": {},
   "source": [
    "### Padding & Convert to tensor\n",
    "##### 올바른 RNN 학습을 위해 가변길이의 데이터를 같은 길이로 늘려주는 작업(padding)과\n",
    "##### array 형태의 데이터 형식을 RNN 학습에 용이한 Tensor로 변환하는 과정"
   ]
  },
  {
   "cell_type": "code",
   "execution_count": 16,
   "metadata": {},
   "outputs": [],
   "source": [
    "from tensorflow.keras.preprocessing.sequence import pad_sequences"
   ]
  },
  {
   "cell_type": "code",
   "execution_count": 17,
   "metadata": {},
   "outputs": [],
   "source": [
    "def convert(new_mat):\n",
    "    \n",
    "    max_len=0\n",
    "    for data in new_mat:\n",
    "        if len(data)>max_len:\n",
    "            max_len = len(data)\n",
    "\n",
    "    X_data = pad_sequences(new_mat, padding='post',value=-1, maxlen=max_len)\n",
    "    X_data = tf.convert_to_tensor(X_data, dtype=tf.float32)\n",
    "    \n",
    "    return X_data"
   ]
  },
  {
   "cell_type": "code",
   "execution_count": 18,
   "metadata": {},
   "outputs": [],
   "source": [
    "# Pretreatment\n",
    "X = pipeline(cg_df)\n",
    "\n",
    "# convert to 3D Array\n",
    "new_mat = make_metrics(cg_df, X)\n",
    "\n",
    "# Padding & Conver to tensor\n",
    "X_data = convert(new_mat)"
   ]
  },
  {
   "cell_type": "markdown",
   "metadata": {},
   "source": [
    "### Train / Test data"
   ]
  },
  {
   "cell_type": "code",
   "execution_count": 19,
   "metadata": {},
   "outputs": [],
   "source": [
    "from tensorflow.keras.utils import to_categorical"
   ]
  },
  {
   "cell_type": "code",
   "execution_count": 24,
   "metadata": {},
   "outputs": [],
   "source": [
    "train_x = X_data[:int(0.7*len(X_data))]\n",
    "test_x = X_data[int(0.7*len(X_data)):]\n",
    "\n",
    "train_y = y_label[:int(0.7*len(X_data))]\n",
    "test_y = y_label[int(0.7*len(X_data)):]\n",
    "\n",
    "train_y1 = to_categorical(train_y)\n",
    "test_y1 = to_categorical(test_y)"
   ]
  },
  {
   "cell_type": "code",
   "execution_count": 27,
   "metadata": {},
   "outputs": [
    {
     "name": "stdout",
     "output_type": "stream",
     "text": [
      "Train data : 350\n",
      "Test data : 150\n",
      "Train data label => Counter({0: 176, 1: 174})\n",
      "Test data label => Counter({1: 76, 0: 74})\n"
     ]
    }
   ],
   "source": [
    "print('Train data : %d' %len(train_x))\n",
    "print('Test data : %d' %len(test_x))\n",
    "\n",
    "print('Train data label => %s' %Counter(train_y))\n",
    "print('Test data label => %s' %Counter(test_y))"
   ]
  },
  {
   "cell_type": "markdown",
   "metadata": {},
   "source": [
    "### RNN Model"
   ]
  },
  {
   "cell_type": "code",
   "execution_count": 50,
   "metadata": {},
   "outputs": [],
   "source": [
    "from tensorflow.keras.layers import Dense,SimpleRNN,LSTM\n",
    "from tensorflow.keras.models import Sequential\n",
    "from tensorflow.keras.optimizers import RMSprop"
   ]
  },
  {
   "cell_type": "code",
   "execution_count": 30,
   "metadata": {},
   "outputs": [],
   "source": [
    "model = Sequential()\n",
    "model.add(SimpleRNN(16, input_shape=(train_x.shape[1:]),return_sequences=True))\n",
    "model.add(SimpleRNN(16,  return_sequences=True))\n",
    "model.add(SimpleRNN(16, return_sequences=False))\n",
    "model.add(Dense(2, activation='softmax'))"
   ]
  },
  {
   "cell_type": "code",
   "execution_count": 51,
   "metadata": {},
   "outputs": [],
   "source": [
    "model = Sequential()\n",
    "model.add(LSTM(16, input_shape=(train_x.shape[1:]),return_sequences=True))\n",
    "model.add(LSTM(16,  return_sequences=True))\n",
    "model.add(LSTM(16, return_sequences=False))\n",
    "model.add(Dense(2, activation='softmax'))"
   ]
  },
  {
   "cell_type": "code",
   "execution_count": 52,
   "metadata": {},
   "outputs": [
    {
     "name": "stdout",
     "output_type": "stream",
     "text": [
      "Model: \"sequential_2\"\n",
      "_________________________________________________________________\n",
      "Layer (type)                 Output Shape              Param #   \n",
      "=================================================================\n",
      "lstm (LSTM)                  (None, 10, 16)            1728      \n",
      "_________________________________________________________________\n",
      "lstm_1 (LSTM)                (None, 10, 16)            2112      \n",
      "_________________________________________________________________\n",
      "lstm_2 (LSTM)                (None, 16)                2112      \n",
      "_________________________________________________________________\n",
      "dense_1 (Dense)              (None, 2)                 34        \n",
      "=================================================================\n",
      "Total params: 5,986\n",
      "Trainable params: 5,986\n",
      "Non-trainable params: 0\n",
      "_________________________________________________________________\n"
     ]
    }
   ],
   "source": [
    "# RNN Model Summary\n",
    "\n",
    "model.summary()"
   ]
  },
  {
   "cell_type": "code",
   "execution_count": 53,
   "metadata": {},
   "outputs": [
    {
     "name": "stdout",
     "output_type": "stream",
     "text": [
      "Train on 280 samples, validate on 70 samples\n",
      "Epoch 1/100\n",
      "280/280 [==============================] - 5s 18ms/sample - loss: 0.7006 - accuracy: 0.5036 - val_loss: 0.6825 - val_accuracy: 0.6714\n",
      "Epoch 2/100\n",
      "280/280 [==============================] - 0s 253us/sample - loss: 0.6870 - accuracy: 0.5571 - val_loss: 0.6793 - val_accuracy: 0.5000\n",
      "Epoch 3/100\n",
      "280/280 [==============================] - 0s 260us/sample - loss: 0.6813 - accuracy: 0.5750 - val_loss: 0.6735 - val_accuracy: 0.6571\n",
      "Epoch 4/100\n",
      "280/280 [==============================] - 0s 271us/sample - loss: 0.6735 - accuracy: 0.6357 - val_loss: 0.6758 - val_accuracy: 0.5286\n",
      "Epoch 5/100\n",
      "280/280 [==============================] - 0s 271us/sample - loss: 0.6631 - accuracy: 0.6107 - val_loss: 0.6558 - val_accuracy: 0.6857\n",
      "Epoch 6/100\n",
      "280/280 [==============================] - 0s 260us/sample - loss: 0.6549 - accuracy: 0.6036 - val_loss: 0.6569 - val_accuracy: 0.6000\n",
      "Epoch 7/100\n",
      "280/280 [==============================] - 0s 267us/sample - loss: 0.6412 - accuracy: 0.6536 - val_loss: 0.6509 - val_accuracy: 0.5714\n",
      "Epoch 8/100\n",
      "280/280 [==============================] - 0s 256us/sample - loss: 0.6243 - accuracy: 0.6714 - val_loss: 0.6396 - val_accuracy: 0.6286\n",
      "Epoch 9/100\n",
      "280/280 [==============================] - 0s 267us/sample - loss: 0.6108 - accuracy: 0.6857 - val_loss: 0.6551 - val_accuracy: 0.5714\n",
      "Epoch 10/100\n",
      "280/280 [==============================] - 0s 264us/sample - loss: 0.6097 - accuracy: 0.6786 - val_loss: 0.6174 - val_accuracy: 0.7000\n",
      "Epoch 11/100\n",
      "280/280 [==============================] - 0s 285us/sample - loss: 0.5926 - accuracy: 0.6821 - val_loss: 0.6198 - val_accuracy: 0.7000\n",
      "Epoch 12/100\n",
      "280/280 [==============================] - 0s 367us/sample - loss: 0.5891 - accuracy: 0.6857 - val_loss: 0.6138 - val_accuracy: 0.6857\n",
      "Epoch 13/100\n",
      "280/280 [==============================] - 0s 317us/sample - loss: 0.5983 - accuracy: 0.6750 - val_loss: 0.6113 - val_accuracy: 0.6857\n",
      "Epoch 14/100\n",
      "280/280 [==============================] - ETA: 0s - loss: 0.6135 - accuracy: 0.71 - 0s 285us/sample - loss: 0.5937 - accuracy: 0.6607 - val_loss: 0.6128 - val_accuracy: 0.6714\n",
      "Epoch 15/100\n",
      "280/280 [==============================] - 0s 278us/sample - loss: 0.5783 - accuracy: 0.6821 - val_loss: 0.6219 - val_accuracy: 0.6714\n",
      "Epoch 16/100\n",
      "280/280 [==============================] - 0s 271us/sample - loss: 0.5797 - accuracy: 0.6714 - val_loss: 0.6287 - val_accuracy: 0.6714\n",
      "Epoch 17/100\n",
      "280/280 [==============================] - 0s 274us/sample - loss: 0.5791 - accuracy: 0.6714 - val_loss: 0.6254 - val_accuracy: 0.6429\n",
      "Epoch 18/100\n",
      "280/280 [==============================] - 0s 256us/sample - loss: 0.5757 - accuracy: 0.6821 - val_loss: 0.6154 - val_accuracy: 0.6714\n",
      "Epoch 19/100\n",
      "280/280 [==============================] - 0s 267us/sample - loss: 0.6067 - accuracy: 0.6464 - val_loss: 0.6162 - val_accuracy: 0.6714\n",
      "Epoch 20/100\n",
      "280/280 [==============================] - 0s 260us/sample - loss: 0.5708 - accuracy: 0.6786 - val_loss: 0.6087 - val_accuracy: 0.6714\n",
      "Epoch 21/100\n",
      "280/280 [==============================] - 0s 267us/sample - loss: 0.5648 - accuracy: 0.7000 - val_loss: 0.6091 - val_accuracy: 0.6429\n",
      "Epoch 22/100\n",
      "280/280 [==============================] - 0s 289us/sample - loss: 0.5801 - accuracy: 0.6714 - val_loss: 0.6360 - val_accuracy: 0.6286\n",
      "Epoch 23/100\n",
      "280/280 [==============================] - 0s 264us/sample - loss: 0.5800 - accuracy: 0.6607 - val_loss: 0.6119 - val_accuracy: 0.6429\n",
      "Epoch 24/100\n",
      "280/280 [==============================] - 0s 299us/sample - loss: 0.5668 - accuracy: 0.6929 - val_loss: 0.6163 - val_accuracy: 0.6571\n",
      "Epoch 25/100\n",
      "280/280 [==============================] - 0s 274us/sample - loss: 0.5645 - accuracy: 0.6964 - val_loss: 0.6576 - val_accuracy: 0.6429\n",
      "Epoch 26/100\n",
      "280/280 [==============================] - 0s 264us/sample - loss: 0.5618 - accuracy: 0.6929 - val_loss: 0.6106 - val_accuracy: 0.6429\n",
      "Epoch 27/100\n",
      "280/280 [==============================] - 0s 264us/sample - loss: 0.5746 - accuracy: 0.6714 - val_loss: 0.6143 - val_accuracy: 0.6286\n",
      "Epoch 28/100\n",
      "280/280 [==============================] - 0s 267us/sample - loss: 0.5649 - accuracy: 0.6929 - val_loss: 0.6118 - val_accuracy: 0.6571\n",
      "Epoch 29/100\n",
      "280/280 [==============================] - 0s 264us/sample - loss: 0.5640 - accuracy: 0.6857 - val_loss: 0.6229 - val_accuracy: 0.6714\n",
      "Epoch 30/100\n",
      "280/280 [==============================] - 0s 267us/sample - loss: 0.5561 - accuracy: 0.6786 - val_loss: 0.6596 - val_accuracy: 0.6429\n",
      "Epoch 31/100\n",
      "280/280 [==============================] - 0s 278us/sample - loss: 0.5815 - accuracy: 0.6536 - val_loss: 0.6281 - val_accuracy: 0.6857\n",
      "Epoch 32/100\n",
      "280/280 [==============================] - 0s 267us/sample - loss: 0.5585 - accuracy: 0.7071 - val_loss: 0.6229 - val_accuracy: 0.6714\n",
      "Epoch 33/100\n",
      "280/280 [==============================] - 0s 278us/sample - loss: 0.5630 - accuracy: 0.6893 - val_loss: 0.6148 - val_accuracy: 0.6429\n",
      "Epoch 34/100\n",
      "280/280 [==============================] - 0s 303us/sample - loss: 0.5571 - accuracy: 0.7000 - val_loss: 0.6125 - val_accuracy: 0.6286\n",
      "Epoch 35/100\n",
      "280/280 [==============================] - 0s 313us/sample - loss: 0.5607 - accuracy: 0.6857 - val_loss: 0.6168 - val_accuracy: 0.6429\n",
      "Epoch 36/100\n",
      "280/280 [==============================] - 0s 306us/sample - loss: 0.5549 - accuracy: 0.7000 - val_loss: 0.6162 - val_accuracy: 0.6286\n",
      "Epoch 37/100\n",
      "280/280 [==============================] - 0s 324us/sample - loss: 0.5542 - accuracy: 0.7179 - val_loss: 0.6333 - val_accuracy: 0.6714\n",
      "Epoch 38/100\n",
      "280/280 [==============================] - 0s 367us/sample - loss: 0.5528 - accuracy: 0.6857 - val_loss: 0.6340 - val_accuracy: 0.6714\n",
      "Epoch 39/100\n",
      "280/280 [==============================] - 0s 321us/sample - loss: 0.5623 - accuracy: 0.6679 - val_loss: 0.6321 - val_accuracy: 0.6714\n",
      "Epoch 40/100\n",
      "280/280 [==============================] - 0s 324us/sample - loss: 0.5512 - accuracy: 0.6964 - val_loss: 0.6210 - val_accuracy: 0.6429\n",
      "Epoch 41/100\n",
      "280/280 [==============================] - 0s 370us/sample - loss: 0.5498 - accuracy: 0.7071 - val_loss: 0.6310 - val_accuracy: 0.6143\n",
      "Epoch 42/100\n",
      "280/280 [==============================] - 0s 356us/sample - loss: 0.5560 - accuracy: 0.6893 - val_loss: 0.6242 - val_accuracy: 0.6429\n",
      "Epoch 43/100\n",
      "280/280 [==============================] - 0s 306us/sample - loss: 0.5466 - accuracy: 0.6857 - val_loss: 0.6589 - val_accuracy: 0.6571\n",
      "Epoch 44/100\n",
      "280/280 [==============================] - 0s 321us/sample - loss: 0.5743 - accuracy: 0.6786 - val_loss: 0.6256 - val_accuracy: 0.6286\n",
      "Epoch 45/100\n",
      "280/280 [==============================] - 0s 324us/sample - loss: 0.5499 - accuracy: 0.7036 - val_loss: 0.6502 - val_accuracy: 0.6429\n",
      "Epoch 46/100\n",
      "280/280 [==============================] - 0s 310us/sample - loss: 0.5461 - accuracy: 0.6893 - val_loss: 0.6479 - val_accuracy: 0.6571\n",
      "Epoch 47/100\n",
      "280/280 [==============================] - 0s 299us/sample - loss: 0.5420 - accuracy: 0.7107 - val_loss: 0.6534 - val_accuracy: 0.6571\n",
      "Epoch 48/100\n",
      "280/280 [==============================] - 0s 306us/sample - loss: 0.5437 - accuracy: 0.6821 - val_loss: 0.6268 - val_accuracy: 0.6286\n",
      "Epoch 49/100\n",
      "280/280 [==============================] - 0s 381us/sample - loss: 0.5442 - accuracy: 0.7036 - val_loss: 0.6645 - val_accuracy: 0.6429\n",
      "Epoch 50/100\n",
      "280/280 [==============================] - 0s 321us/sample - loss: 0.5674 - accuracy: 0.6679 - val_loss: 0.6565 - val_accuracy: 0.6286\n",
      "Epoch 51/100\n",
      "280/280 [==============================] - 0s 267us/sample - loss: 0.5533 - accuracy: 0.7000 - val_loss: 0.6682 - val_accuracy: 0.6143\n",
      "Epoch 52/100\n",
      "280/280 [==============================] - 0s 285us/sample - loss: 0.5484 - accuracy: 0.6714 - val_loss: 0.6316 - val_accuracy: 0.6000\n",
      "Epoch 53/100\n",
      "280/280 [==============================] - 0s 289us/sample - loss: 0.5488 - accuracy: 0.7071 - val_loss: 0.6378 - val_accuracy: 0.6571\n",
      "Epoch 54/100\n",
      "280/280 [==============================] - 0s 321us/sample - loss: 0.5406 - accuracy: 0.7107 - val_loss: 0.6343 - val_accuracy: 0.6571\n",
      "Epoch 55/100\n",
      "280/280 [==============================] - 0s 310us/sample - loss: 0.5419 - accuracy: 0.7107 - val_loss: 0.6439 - val_accuracy: 0.6714\n"
     ]
    },
    {
     "name": "stdout",
     "output_type": "stream",
     "text": [
      "Epoch 56/100\n",
      "280/280 [==============================] - 0s 296us/sample - loss: 0.5405 - accuracy: 0.6964 - val_loss: 0.6944 - val_accuracy: 0.6286\n",
      "Epoch 57/100\n",
      "280/280 [==============================] - 0s 306us/sample - loss: 0.5648 - accuracy: 0.6857 - val_loss: 0.6313 - val_accuracy: 0.6429\n",
      "Epoch 58/100\n",
      "280/280 [==============================] - 0s 321us/sample - loss: 0.5372 - accuracy: 0.7143 - val_loss: 0.6384 - val_accuracy: 0.6571\n",
      "Epoch 59/100\n",
      "280/280 [==============================] - 0s 370us/sample - loss: 0.5346 - accuracy: 0.7214 - val_loss: 0.6521 - val_accuracy: 0.6429\n",
      "Epoch 60/100\n",
      "280/280 [==============================] - 0s 306us/sample - loss: 0.5348 - accuracy: 0.7107 - val_loss: 0.6541 - val_accuracy: 0.6429\n",
      "Epoch 61/100\n",
      "280/280 [==============================] - 0s 296us/sample - loss: 0.5386 - accuracy: 0.7000 - val_loss: 0.6343 - val_accuracy: 0.6143\n",
      "Epoch 62/100\n",
      "280/280 [==============================] - 0s 271us/sample - loss: 0.5470 - accuracy: 0.6857 - val_loss: 0.6372 - val_accuracy: 0.6571\n",
      "Epoch 63/100\n",
      "280/280 [==============================] - 0s 271us/sample - loss: 0.5387 - accuracy: 0.7000 - val_loss: 0.6322 - val_accuracy: 0.6429\n",
      "Epoch 64/100\n",
      "280/280 [==============================] - 0s 289us/sample - loss: 0.5342 - accuracy: 0.7107 - val_loss: 0.6360 - val_accuracy: 0.6429\n",
      "Epoch 65/100\n",
      "280/280 [==============================] - 0s 278us/sample - loss: 0.5357 - accuracy: 0.7107 - val_loss: 0.6607 - val_accuracy: 0.6429\n",
      "Epoch 66/100\n",
      "280/280 [==============================] - 0s 267us/sample - loss: 0.5389 - accuracy: 0.7143 - val_loss: 0.6389 - val_accuracy: 0.6429\n",
      "Epoch 67/100\n",
      "280/280 [==============================] - 0s 260us/sample - loss: 0.5485 - accuracy: 0.7000 - val_loss: 0.6423 - val_accuracy: 0.6429\n",
      "Epoch 68/100\n",
      "280/280 [==============================] - 0s 260us/sample - loss: 0.5357 - accuracy: 0.6964 - val_loss: 0.6472 - val_accuracy: 0.6429\n",
      "Epoch 69/100\n",
      "280/280 [==============================] - 0s 278us/sample - loss: 0.5283 - accuracy: 0.7321 - val_loss: 0.6419 - val_accuracy: 0.6429\n",
      "Epoch 70/100\n",
      "280/280 [==============================] - 0s 321us/sample - loss: 0.5270 - accuracy: 0.7179 - val_loss: 0.6451 - val_accuracy: 0.6286\n",
      "Epoch 71/100\n",
      "280/280 [==============================] - 0s 278us/sample - loss: 0.5258 - accuracy: 0.7000 - val_loss: 0.6579 - val_accuracy: 0.6714\n",
      "Epoch 72/100\n",
      "280/280 [==============================] - 0s 299us/sample - loss: 0.5420 - accuracy: 0.7143 - val_loss: 0.6876 - val_accuracy: 0.6000\n",
      "Epoch 73/100\n",
      "280/280 [==============================] - 0s 271us/sample - loss: 0.5421 - accuracy: 0.7143 - val_loss: 0.7059 - val_accuracy: 0.6143\n",
      "Epoch 74/100\n",
      "280/280 [==============================] - 0s 374us/sample - loss: 0.5296 - accuracy: 0.7250 - val_loss: 0.6956 - val_accuracy: 0.6286\n",
      "Epoch 75/100\n",
      "280/280 [==============================] - 0s 285us/sample - loss: 0.5374 - accuracy: 0.7107 - val_loss: 0.6443 - val_accuracy: 0.6143\n",
      "Epoch 76/100\n",
      "280/280 [==============================] - 0s 281us/sample - loss: 0.5277 - accuracy: 0.7357 - val_loss: 0.6534 - val_accuracy: 0.6286\n",
      "Epoch 77/100\n",
      "280/280 [==============================] - 0s 267us/sample - loss: 0.5261 - accuracy: 0.7143 - val_loss: 0.6497 - val_accuracy: 0.6286\n",
      "Epoch 78/100\n",
      "280/280 [==============================] - 0s 249us/sample - loss: 0.5336 - accuracy: 0.7107 - val_loss: 0.7080 - val_accuracy: 0.6000\n",
      "Epoch 79/100\n",
      "280/280 [==============================] - 0s 274us/sample - loss: 0.5380 - accuracy: 0.6857 - val_loss: 0.6779 - val_accuracy: 0.6143\n",
      "Epoch 80/100\n",
      "280/280 [==============================] - 0s 281us/sample - loss: 0.5179 - accuracy: 0.7071 - val_loss: 0.6759 - val_accuracy: 0.6143\n",
      "Epoch 81/100\n",
      "280/280 [==============================] - 0s 281us/sample - loss: 0.5169 - accuracy: 0.7286 - val_loss: 0.6599 - val_accuracy: 0.6429\n",
      "Epoch 82/100\n",
      "280/280 [==============================] - 0s 264us/sample - loss: 0.5242 - accuracy: 0.7179 - val_loss: 0.6797 - val_accuracy: 0.6286\n",
      "Epoch 83/100\n",
      "280/280 [==============================] - 0s 249us/sample - loss: 0.5148 - accuracy: 0.7179 - val_loss: 0.7005 - val_accuracy: 0.6000\n",
      "Epoch 84/100\n",
      "280/280 [==============================] - 0s 274us/sample - loss: 0.5210 - accuracy: 0.7464 - val_loss: 0.7307 - val_accuracy: 0.6143\n",
      "Epoch 85/100\n",
      "280/280 [==============================] - 0s 313us/sample - loss: 0.5322 - accuracy: 0.7036 - val_loss: 0.6753 - val_accuracy: 0.6143\n",
      "Epoch 86/100\n",
      "280/280 [==============================] - 0s 331us/sample - loss: 0.5305 - accuracy: 0.7179 - val_loss: 0.6633 - val_accuracy: 0.6429\n",
      "Epoch 87/100\n",
      "280/280 [==============================] - 0s 349us/sample - loss: 0.5208 - accuracy: 0.7286 - val_loss: 0.6515 - val_accuracy: 0.6143\n",
      "Epoch 88/100\n",
      "280/280 [==============================] - 0s 306us/sample - loss: 0.5150 - accuracy: 0.7464 - val_loss: 0.6624 - val_accuracy: 0.6286\n",
      "Epoch 89/100\n",
      "280/280 [==============================] - 0s 303us/sample - loss: 0.5243 - accuracy: 0.7357 - val_loss: 0.6629 - val_accuracy: 0.6286\n",
      "Epoch 90/100\n",
      "280/280 [==============================] - 0s 278us/sample - loss: 0.5208 - accuracy: 0.7214 - val_loss: 0.6599 - val_accuracy: 0.6143\n",
      "Epoch 91/100\n",
      "280/280 [==============================] - 0s 274us/sample - loss: 0.5158 - accuracy: 0.7500 - val_loss: 0.6870 - val_accuracy: 0.6286\n",
      "Epoch 92/100\n",
      "280/280 [==============================] - 0s 306us/sample - loss: 0.5131 - accuracy: 0.7286 - val_loss: 0.6888 - val_accuracy: 0.6571\n",
      "Epoch 93/100\n",
      "280/280 [==============================] - 0s 317us/sample - loss: 0.5148 - accuracy: 0.7429 - val_loss: 0.6788 - val_accuracy: 0.6429\n",
      "Epoch 94/100\n",
      "280/280 [==============================] - 0s 335us/sample - loss: 0.5123 - accuracy: 0.7321 - val_loss: 0.6807 - val_accuracy: 0.6429\n",
      "Epoch 95/100\n",
      "280/280 [==============================] - 0s 324us/sample - loss: 0.5128 - accuracy: 0.7321 - val_loss: 0.8259 - val_accuracy: 0.5714\n",
      "Epoch 96/100\n",
      "280/280 [==============================] - 0s 321us/sample - loss: 0.5200 - accuracy: 0.7357 - val_loss: 0.6838 - val_accuracy: 0.6286\n",
      "Epoch 97/100\n",
      "280/280 [==============================] - 0s 299us/sample - loss: 0.5068 - accuracy: 0.7357 - val_loss: 0.6969 - val_accuracy: 0.6143\n",
      "Epoch 98/100\n",
      "280/280 [==============================] - 0s 303us/sample - loss: 0.5131 - accuracy: 0.7357 - val_loss: 0.7015 - val_accuracy: 0.6143\n",
      "Epoch 99/100\n",
      "280/280 [==============================] - 0s 310us/sample - loss: 0.5067 - accuracy: 0.7429 - val_loss: 0.6852 - val_accuracy: 0.6143\n",
      "Epoch 100/100\n",
      "280/280 [==============================] - 0s 292us/sample - loss: 0.5049 - accuracy: 0.7536 - val_loss: 0.6918 - val_accuracy: 0.6286\n"
     ]
    },
    {
     "data": {
      "text/plain": [
       "<tensorflow.python.keras.callbacks.History at 0x1af63fa7160>"
      ]
     },
     "execution_count": 53,
     "metadata": {},
     "output_type": "execute_result"
    }
   ],
   "source": [
    "model.compile(optimizer=RMSprop(),loss='binary_crossentropy',metrics=['accuracy'])\n",
    "\n",
    "model.fit(train_x,train_y1,epochs=100,batch_size=64,validation_split=0.2)"
   ]
  },
  {
   "cell_type": "markdown",
   "metadata": {},
   "source": [
    "### Confusion Matrix"
   ]
  },
  {
   "cell_type": "code",
   "execution_count": 54,
   "metadata": {},
   "outputs": [],
   "source": [
    "from sklearn.metrics import confusion_matrix,classification_report"
   ]
  },
  {
   "cell_type": "code",
   "execution_count": 55,
   "metadata": {},
   "outputs": [],
   "source": [
    "test_pred = model.predict_classes(test_x)\n",
    "\n",
    "test_pred = [a for a in test_pred]"
   ]
  },
  {
   "cell_type": "code",
   "execution_count": 56,
   "metadata": {},
   "outputs": [],
   "source": [
    "#test_pred"
   ]
  },
  {
   "cell_type": "code",
   "execution_count": 57,
   "metadata": {},
   "outputs": [
    {
     "name": "stdout",
     "output_type": "stream",
     "text": [
      "predict label => Counter({0: 79, 1: 71})\n",
      "real label => Counter({1: 76, 0: 74})\n"
     ]
    }
   ],
   "source": [
    "print('predict label => %s' %Counter(test_pred))\n",
    "print('real label => %s' %Counter(test_y))"
   ]
  },
  {
   "cell_type": "code",
   "execution_count": 58,
   "metadata": {},
   "outputs": [
    {
     "name": "stdout",
     "output_type": "stream",
     "text": [
      "[[47 29]\n",
      " [24 50]]\n"
     ]
    }
   ],
   "source": [
    "print(confusion_matrix(test_y,test_pred,labels=[1,0]))"
   ]
  },
  {
   "cell_type": "code",
   "execution_count": 59,
   "metadata": {},
   "outputs": [
    {
     "name": "stdout",
     "output_type": "stream",
     "text": [
      "              precision    recall  f1-score   support\n",
      "\n",
      "           0       0.63      0.68      0.65        74\n",
      "           1       0.66      0.62      0.64        76\n",
      "\n",
      "    accuracy                           0.65       150\n",
      "   macro avg       0.65      0.65      0.65       150\n",
      "weighted avg       0.65      0.65      0.65       150\n",
      "\n"
     ]
    }
   ],
   "source": [
    "print(classification_report(test_y,test_pred))"
   ]
  },
  {
   "cell_type": "markdown",
   "metadata": {},
   "source": [
    "### ROC Curve & AUC"
   ]
  },
  {
   "cell_type": "code",
   "execution_count": 60,
   "metadata": {},
   "outputs": [],
   "source": [
    "import matplotlib as mpl\n",
    "import matplotlib.pyplot as plt\n",
    "from sklearn import metrics"
   ]
  },
  {
   "cell_type": "code",
   "execution_count": 61,
   "metadata": {},
   "outputs": [
    {
     "name": "stdout",
     "output_type": "stream",
     "text": [
      "0.7220839260312945\n"
     ]
    },
    {
     "data": {
      "image/png": "[encoded data removed]",
      "text/plain": [
       "<Figure size 432x288 with 1 Axes>"
      ]
     },
     "metadata": {
      "needs_background": "light"
     },
     "output_type": "display_data"
    }
   ],
   "source": [
    "fpr, tpr, thresholds = metrics.roc_curve(test_y, model.predict_proba(test_x)[:,1]) #곡선 그리기\n",
    "\n",
    "plt.plot(fpr, tpr)\n",
    "plt.fill_between(fpr, tpr, color='y')\n",
    "plt.plot([0, 1], [0, 1], '--')\n",
    "plt.xlabel('False Positive Rate(1 - Specificity)')\n",
    "plt.ylabel('True Positive Rate(Sensitivity)')\n",
    "\n",
    "score = metrics.auc(fpr, tpr) #면적 구하기\n",
    "print(score) #1.0\n",
    "\n",
    "plt.title('ROC (Receiver Operating Characteristic) Curve (AUC = {})'.format(round(score,4)))\n",
    "plt.show()"
   ]
  },
  {
   "cell_type": "code",
   "execution_count": null,
   "metadata": {},
   "outputs": [],
   "source": []
  },
  {
   "cell_type": "code",
   "execution_count": null,
   "metadata": {},
   "outputs": [],
   "source": []
  },
  {
   "cell_type": "code",
   "execution_count": null,
   "metadata": {},
   "outputs": [],
   "source": []
  }
 ],
 "metadata": {
  "kernelspec": {
   "display_name": "Python 3",
   "language": "python",
   "name": "python3"
  },
  "language_info": {
   "codemirror_mode": {
    "name": "ipython",
    "version": 3
   },
   "file_extension": ".py",
   "mimetype": "text/x-python",
   "name": "python",
   "nbconvert_exporter": "python",
   "pygments_lexer": "ipython3",
   "version": "3.7.3"
  }
 },
 "nbformat": 4,
 "nbformat_minor": 2
}
