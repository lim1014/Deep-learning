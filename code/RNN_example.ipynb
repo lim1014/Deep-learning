{
  "nbformat": 4,
  "nbformat_minor": 0,
  "metadata": {
    "kernelspec": {
      "display_name": "Python 3",
      "language": "python",
      "name": "python3"
    },
    "language_info": {
      "codemirror_mode": {
        "name": "ipython",
        "version": 3
      },
      "file_extension": ".py",
      "mimetype": "text/x-python",
      "name": "python",
      "nbconvert_exporter": "python",
      "pygments_lexer": "ipython3",
      "version": "3.7.3"
    },
    "colab": {
      "name": "RNN_example.ipynb",
      "provenance": [],
      "collapsed_sections": [],
      "include_colab_link": true
    }
  },
  "cells": [
    {
      "cell_type": "markdown",
      "metadata": {
        "id": "view-in-github",
        "colab_type": "text"
      },
      "source": [
        "<a href=\"https://colab.research.google.com/github/lim1014/Deep-learning/blob/main/RNN_example.ipynb\" target=\"_parent\"><img src=\"https://colab.research.google.com/assets/colab-badge.svg\" alt=\"Open In Colab\"/></a>"
      ]
    },
    {
      "cell_type": "code",
      "metadata": {
        "id": "5RNu_Uqh5RIh"
      },
      "source": [
        "import pandas as pd\n",
        "import numpy as np\n",
        "from collections import Counter\n",
        "import tensorflow as tf\n",
        "%matplotlib inline"
      ],
      "execution_count": 1,
      "outputs": []
    },
    {
      "cell_type": "code",
      "metadata": {
        "id": "RBhpNLC65Vsi",
        "outputId": "84b00a15-21f3-4cb3-d314-e51966ee287b",
        "colab": {
          "resources": {
            "http://localhost:8080/nbextensions/google.colab/files.js": {
              "data": "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",
              "ok": true,
              "headers": [
                [
                  "content-type",
                  "application/javascript"
                ]
              ],
              "status": 200,
              "status_text": ""
            }
          },
          "base_uri": "https://localhost:8080/",
          "height": 76
        }
      },
      "source": [
        "# 파일 선택을 통해 예제 데이터를 내 컴퓨터에서 불러옵니다.\n",
        "from google.colab import files\n",
        "uploaded = files.upload()\n",
        "my_data = 'medical_checkup_mean.csv'\n"
      ],
      "execution_count": 2,
      "outputs": [
        {
          "output_type": "display_data",
          "data": {
            "text/html": [
              "\n",
              "     <input type=\"file\" id=\"files-c7c51b6a-3ffc-4b5f-9474-ac960c9cc53d\" name=\"files[]\" multiple disabled\n",
              "        style=\"border:none\" />\n",
              "     <output id=\"result-c7c51b6a-3ffc-4b5f-9474-ac960c9cc53d\">\n",
              "      Upload widget is only available when the cell has been executed in the\n",
              "      current browser session. Please rerun this cell to enable.\n",
              "      </output>\n",
              "      <script src=\"/nbextensions/google.colab/files.js\"></script> "
            ],
            "text/plain": [
              "<IPython.core.display.HTML object>"
            ]
          },
          "metadata": {
            "tags": []
          }
        },
        {
          "output_type": "stream",
          "text": [
            "Saving medical_checkup_mean.csv to medical_checkup_mean.csv\n"
          ],
          "name": "stdout"
        }
      ]
    },
    {
      "cell_type": "code",
      "metadata": {
        "id": "JUIHSj595RIk"
      },
      "source": [
        "# dataset을 불러옵니다.\n",
        "\n",
        "cg = pd.read_csv(my_data)\n",
        "\n",
        "cg_df = pd.DataFrame(cg)\n",
        "\n",
        "del cg_df['Unnamed: 0']\n",
        "\n",
        "cg_df = cg_df.sort_values(by=['person_id','test_age'])"
      ],
      "execution_count": 4,
      "outputs": []
    },
    {
      "cell_type": "markdown",
      "metadata": {
        "id": "j1-Qluyi5RIn"
      },
      "source": [
        "#### 여러 회차에 걸친 위염환자들의 건강검진 데이터"
      ]
    },
    {
      "cell_type": "code",
      "metadata": {
        "id": "TdFr7mZl5RIo",
        "outputId": "19563c2a-9d12-4de9-81f4-e6fdb5c45ea0",
        "colab": {
          "base_uri": "https://localhost:8080/",
          "height": 419
        }
      },
      "source": [
        "cg_df"
      ],
      "execution_count": null,
      "outputs": [
        {
          "output_type": "execute_result",
          "data": {
            "text/html": [
              "<div>\n",
              "<style scoped>\n",
              "    .dataframe tbody tr th:only-of-type {\n",
              "        vertical-align: middle;\n",
              "    }\n",
              "\n",
              "    .dataframe tbody tr th {\n",
              "        vertical-align: top;\n",
              "    }\n",
              "\n",
              "    .dataframe thead th {\n",
              "        text-align: right;\n",
              "    }\n",
              "</style>\n",
              "<table border=\"1\" class=\"dataframe\">\n",
              "  <thead>\n",
              "    <tr style=\"text-align: right;\">\n",
              "      <th></th>\n",
              "      <th>person_id</th>\n",
              "      <th>gender</th>\n",
              "      <th>age</th>\n",
              "      <th>bmi</th>\n",
              "      <th>smoking status</th>\n",
              "      <th>smoking_duration</th>\n",
              "      <th>amount of smoking</th>\n",
              "      <th>alcohol_habit</th>\n",
              "      <th>income</th>\n",
              "      <th>family_cancer</th>\n",
              "      <th>test_age</th>\n",
              "      <th>cancer</th>\n",
              "    </tr>\n",
              "  </thead>\n",
              "  <tbody>\n",
              "    <tr>\n",
              "      <th>0</th>\n",
              "      <td>10224187</td>\n",
              "      <td>0</td>\n",
              "      <td>75</td>\n",
              "      <td>17.360000</td>\n",
              "      <td>3.0</td>\n",
              "      <td>5</td>\n",
              "      <td>2</td>\n",
              "      <td>1.0</td>\n",
              "      <td>2.0</td>\n",
              "      <td>1</td>\n",
              "      <td>64</td>\n",
              "      <td>0</td>\n",
              "    </tr>\n",
              "    <tr>\n",
              "      <th>1</th>\n",
              "      <td>10224187</td>\n",
              "      <td>0</td>\n",
              "      <td>75</td>\n",
              "      <td>17.360000</td>\n",
              "      <td>3.0</td>\n",
              "      <td>1</td>\n",
              "      <td>2</td>\n",
              "      <td>1.0</td>\n",
              "      <td>2.0</td>\n",
              "      <td>1</td>\n",
              "      <td>64</td>\n",
              "      <td>0</td>\n",
              "    </tr>\n",
              "    <tr>\n",
              "      <th>2</th>\n",
              "      <td>10410714</td>\n",
              "      <td>0</td>\n",
              "      <td>70</td>\n",
              "      <td>28.010000</td>\n",
              "      <td>3.0</td>\n",
              "      <td>5</td>\n",
              "      <td>4</td>\n",
              "      <td>1.0</td>\n",
              "      <td>7.0</td>\n",
              "      <td>1</td>\n",
              "      <td>59</td>\n",
              "      <td>1</td>\n",
              "    </tr>\n",
              "    <tr>\n",
              "      <th>3</th>\n",
              "      <td>10410714</td>\n",
              "      <td>0</td>\n",
              "      <td>70</td>\n",
              "      <td>25.510000</td>\n",
              "      <td>3.0</td>\n",
              "      <td>4</td>\n",
              "      <td>1</td>\n",
              "      <td>1.0</td>\n",
              "      <td>7.0</td>\n",
              "      <td>1</td>\n",
              "      <td>63</td>\n",
              "      <td>1</td>\n",
              "    </tr>\n",
              "    <tr>\n",
              "      <th>4</th>\n",
              "      <td>10485977</td>\n",
              "      <td>0</td>\n",
              "      <td>53</td>\n",
              "      <td>27.460000</td>\n",
              "      <td>3.0</td>\n",
              "      <td>4</td>\n",
              "      <td>3</td>\n",
              "      <td>4.0</td>\n",
              "      <td>10.0</td>\n",
              "      <td>1</td>\n",
              "      <td>45</td>\n",
              "      <td>0</td>\n",
              "    </tr>\n",
              "    <tr>\n",
              "      <th>...</th>\n",
              "      <td>...</td>\n",
              "      <td>...</td>\n",
              "      <td>...</td>\n",
              "      <td>...</td>\n",
              "      <td>...</td>\n",
              "      <td>...</td>\n",
              "      <td>...</td>\n",
              "      <td>...</td>\n",
              "      <td>...</td>\n",
              "      <td>...</td>\n",
              "      <td>...</td>\n",
              "      <td>...</td>\n",
              "    </tr>\n",
              "    <tr>\n",
              "      <th>1044</th>\n",
              "      <td>53078031</td>\n",
              "      <td>0</td>\n",
              "      <td>80</td>\n",
              "      <td>23.457522</td>\n",
              "      <td>3.0</td>\n",
              "      <td>5</td>\n",
              "      <td>3</td>\n",
              "      <td>1.0</td>\n",
              "      <td>8.0</td>\n",
              "      <td>1</td>\n",
              "      <td>69</td>\n",
              "      <td>1</td>\n",
              "    </tr>\n",
              "    <tr>\n",
              "      <th>1045</th>\n",
              "      <td>53346919</td>\n",
              "      <td>0</td>\n",
              "      <td>76</td>\n",
              "      <td>20.830000</td>\n",
              "      <td>3.0</td>\n",
              "      <td>5</td>\n",
              "      <td>3</td>\n",
              "      <td>1.0</td>\n",
              "      <td>5.0</td>\n",
              "      <td>1</td>\n",
              "      <td>61</td>\n",
              "      <td>0</td>\n",
              "    </tr>\n",
              "    <tr>\n",
              "      <th>1046</th>\n",
              "      <td>53369201</td>\n",
              "      <td>0</td>\n",
              "      <td>74</td>\n",
              "      <td>23.457522</td>\n",
              "      <td>3.0</td>\n",
              "      <td>4</td>\n",
              "      <td>1</td>\n",
              "      <td>1.0</td>\n",
              "      <td>7.0</td>\n",
              "      <td>1</td>\n",
              "      <td>56</td>\n",
              "      <td>1</td>\n",
              "    </tr>\n",
              "    <tr>\n",
              "      <th>1047</th>\n",
              "      <td>53369201</td>\n",
              "      <td>0</td>\n",
              "      <td>74</td>\n",
              "      <td>23.457522</td>\n",
              "      <td>3.0</td>\n",
              "      <td>5</td>\n",
              "      <td>1</td>\n",
              "      <td>1.0</td>\n",
              "      <td>8.0</td>\n",
              "      <td>1</td>\n",
              "      <td>58</td>\n",
              "      <td>1</td>\n",
              "    </tr>\n",
              "    <tr>\n",
              "      <th>1048</th>\n",
              "      <td>53369201</td>\n",
              "      <td>0</td>\n",
              "      <td>74</td>\n",
              "      <td>23.457522</td>\n",
              "      <td>3.0</td>\n",
              "      <td>5</td>\n",
              "      <td>1</td>\n",
              "      <td>1.0</td>\n",
              "      <td>8.0</td>\n",
              "      <td>1</td>\n",
              "      <td>60</td>\n",
              "      <td>1</td>\n",
              "    </tr>\n",
              "  </tbody>\n",
              "</table>\n",
              "<p>1049 rows × 12 columns</p>\n",
              "</div>"
            ],
            "text/plain": [
              "      person_id  gender  age  ...  family_cancer  test_age  cancer\n",
              "0      10224187       0   75  ...              1        64       0\n",
              "1      10224187       0   75  ...              1        64       0\n",
              "2      10410714       0   70  ...              1        59       1\n",
              "3      10410714       0   70  ...              1        63       1\n",
              "4      10485977       0   53  ...              1        45       0\n",
              "...         ...     ...  ...  ...            ...       ...     ...\n",
              "1044   53078031       0   80  ...              1        69       1\n",
              "1045   53346919       0   76  ...              1        61       0\n",
              "1046   53369201       0   74  ...              1        56       1\n",
              "1047   53369201       0   74  ...              1        58       1\n",
              "1048   53369201       0   74  ...              1        60       1\n",
              "\n",
              "[1049 rows x 12 columns]"
            ]
          },
          "metadata": {
            "tags": []
          },
          "execution_count": 6
        }
      ]
    },
    {
      "cell_type": "code",
      "metadata": {
        "id": "KqLkzRKg5RIs",
        "outputId": "8bfbc0ae-6f39-47bd-d95f-463f552a9672",
        "colab": {
          "base_uri": "https://localhost:8080/",
          "height": 89
        }
      },
      "source": [
        "cg_df.columns"
      ],
      "execution_count": null,
      "outputs": [
        {
          "output_type": "execute_result",
          "data": {
            "text/plain": [
              "Index(['person_id', 'gender', 'age', 'bmi', 'smoking status',\n",
              "       'smoking_duration', 'amount of smoking', 'alcohol_habit', 'income',\n",
              "       'family_cancer', 'test_age', 'cancer'],\n",
              "      dtype='object')"
            ]
          },
          "metadata": {
            "tags": []
          },
          "execution_count": 7
        }
      ]
    },
    {
      "cell_type": "markdown",
      "metadata": {
        "id": "iyu61KjC5RIv"
      },
      "source": [
        "### y_label 생성 \n",
        "##### 한사람 당 여러 회차의 기록이 있어 person_id와 cancer 여부가 중복 되므로 \n",
        "##### 이를 고려하여 중복을 제거하여 레이블을 생성"
      ]
    },
    {
      "cell_type": "code",
      "metadata": {
        "id": "HIcDyfI_5RIv"
      },
      "source": [
        "# Y_label\n",
        "\n",
        "cg_y = cg_df.loc[:,['person_id','cancer']]\n",
        "cg_y = cg_y.drop_duplicates(['person_id'])\n",
        "\n",
        "y_label = cg_y['cancer']"
      ],
      "execution_count": null,
      "outputs": []
    },
    {
      "cell_type": "code",
      "metadata": {
        "id": "oHroin105RIy",
        "outputId": "2df710b2-59b3-458d-d8ff-b12e551095c2",
        "colab": {
          "base_uri": "https://localhost:8080/",
          "height": 419
        }
      },
      "source": [
        "cg_y"
      ],
      "execution_count": null,
      "outputs": [
        {
          "output_type": "execute_result",
          "data": {
            "text/html": [
              "<div>\n",
              "<style scoped>\n",
              "    .dataframe tbody tr th:only-of-type {\n",
              "        vertical-align: middle;\n",
              "    }\n",
              "\n",
              "    .dataframe tbody tr th {\n",
              "        vertical-align: top;\n",
              "    }\n",
              "\n",
              "    .dataframe thead th {\n",
              "        text-align: right;\n",
              "    }\n",
              "</style>\n",
              "<table border=\"1\" class=\"dataframe\">\n",
              "  <thead>\n",
              "    <tr style=\"text-align: right;\">\n",
              "      <th></th>\n",
              "      <th>person_id</th>\n",
              "      <th>cancer</th>\n",
              "    </tr>\n",
              "  </thead>\n",
              "  <tbody>\n",
              "    <tr>\n",
              "      <th>0</th>\n",
              "      <td>10224187</td>\n",
              "      <td>0</td>\n",
              "    </tr>\n",
              "    <tr>\n",
              "      <th>2</th>\n",
              "      <td>10410714</td>\n",
              "      <td>1</td>\n",
              "    </tr>\n",
              "    <tr>\n",
              "      <th>4</th>\n",
              "      <td>10485977</td>\n",
              "      <td>0</td>\n",
              "    </tr>\n",
              "    <tr>\n",
              "      <th>5</th>\n",
              "      <td>10486529</td>\n",
              "      <td>0</td>\n",
              "    </tr>\n",
              "    <tr>\n",
              "      <th>8</th>\n",
              "      <td>10879002</td>\n",
              "      <td>0</td>\n",
              "    </tr>\n",
              "    <tr>\n",
              "      <th>...</th>\n",
              "      <td>...</td>\n",
              "      <td>...</td>\n",
              "    </tr>\n",
              "    <tr>\n",
              "      <th>1039</th>\n",
              "      <td>52430195</td>\n",
              "      <td>0</td>\n",
              "    </tr>\n",
              "    <tr>\n",
              "      <th>1042</th>\n",
              "      <td>52560487</td>\n",
              "      <td>0</td>\n",
              "    </tr>\n",
              "    <tr>\n",
              "      <th>1044</th>\n",
              "      <td>53078031</td>\n",
              "      <td>1</td>\n",
              "    </tr>\n",
              "    <tr>\n",
              "      <th>1045</th>\n",
              "      <td>53346919</td>\n",
              "      <td>0</td>\n",
              "    </tr>\n",
              "    <tr>\n",
              "      <th>1046</th>\n",
              "      <td>53369201</td>\n",
              "      <td>1</td>\n",
              "    </tr>\n",
              "  </tbody>\n",
              "</table>\n",
              "<p>500 rows × 2 columns</p>\n",
              "</div>"
            ],
            "text/plain": [
              "      person_id  cancer\n",
              "0      10224187       0\n",
              "2      10410714       1\n",
              "4      10485977       0\n",
              "5      10486529       0\n",
              "8      10879002       0\n",
              "...         ...     ...\n",
              "1039   52430195       0\n",
              "1042   52560487       0\n",
              "1044   53078031       1\n",
              "1045   53346919       0\n",
              "1046   53369201       1\n",
              "\n",
              "[500 rows x 2 columns]"
            ]
          },
          "metadata": {
            "tags": []
          },
          "execution_count": 9
        }
      ]
    },
    {
      "cell_type": "code",
      "metadata": {
        "id": "0VFB6t_J5RI0",
        "outputId": "283d2a66-31fa-4d98-9a50-c43c5df72e29",
        "colab": {
          "base_uri": "https://localhost:8080/",
          "height": 35
        }
      },
      "source": [
        "# y_label\n",
        "Counter(y_label)"
      ],
      "execution_count": null,
      "outputs": [
        {
          "output_type": "execute_result",
          "data": {
            "text/plain": [
              "Counter({0: 250, 1: 250})"
            ]
          },
          "metadata": {
            "tags": []
          },
          "execution_count": 10
        }
      ]
    },
    {
      "cell_type": "markdown",
      "metadata": {
        "id": "C8PAKuu65RI3"
      },
      "source": [
        "### 전처리 단계\n",
        "##### 수치형 변수에 대해 범주형 변수와 비교할 때 값의 차이가 크므로\n",
        "##### 이를 보완하기 위해 정규형으로 변환하는 전처리를 실시"
      ]
    },
    {
      "cell_type": "code",
      "metadata": {
        "id": "JK690fz-5RI3"
      },
      "source": [
        "from sklearn.base import BaseEstimator, TransformerMixin\n",
        "from sklearn.pipeline import Pipeline\n",
        "from sklearn.preprocessing import StandardScaler\n",
        "from sklearn.pipeline import FeatureUnion\n",
        "\n",
        "\n",
        "class DataFrameSelector(BaseEstimator, TransformerMixin):\n",
        "    def __init__(self, attribute_names):\n",
        "        self.attribute_names=attribute_names\n",
        "    def fit(self, X, y=None):\n",
        "        return self\n",
        "    def transform(self, X):\n",
        "        return X[self.attribute_names]"
      ],
      "execution_count": null,
      "outputs": []
    },
    {
      "cell_type": "code",
      "metadata": {
        "id": "NWS7lmxF5RI5"
      },
      "source": [
        "def pipeline(df):\n",
        "\n",
        "    num_pipeline=Pipeline([\n",
        "        (\"select_numeric\",DataFrameSelector(['bmi','age','test_age'])),\n",
        "        (\"scaler\", StandardScaler())])\n",
        "\n",
        "    cat_pipeline = Pipeline([\n",
        "        (\"select_cat\",DataFrameSelector(['gender','smoking status','smoking_duration','amount of smoking','alcohol_habit','income','family_cancer']))])\n",
        "    \n",
        "    preprocess_pipeline = FeatureUnion(transformer_list=[\n",
        "    (\"num_pipeline\", num_pipeline),\n",
        "    (\"cat_pipeline\", cat_pipeline)])\n",
        "    \n",
        "    X=preprocess_pipeline.fit_transform(df)\n",
        "    \n",
        "    return X"
      ],
      "execution_count": null,
      "outputs": []
    },
    {
      "cell_type": "markdown",
      "metadata": {
        "id": "d0U7Tzjj5RI8"
      },
      "source": [
        "### 2차원 데이터를 3차원으로 변환하는 과정\n",
        "##### 환자의 개인별  n년치 건강검진 데이터이므로,\n",
        "##### 환자별로 학습이 이뤄지기 위해서 기존 표 형식과 같은 2차원 데이터에서\n",
        "##### 시간의 순서를 고려한 3차원 데이터로의 변환이 필요함."
      ]
    },
    {
      "cell_type": "code",
      "metadata": {
        "id": "4PnLDGQH5RI8"
      },
      "source": [
        "def make_metrics(df, X):\n",
        "    \n",
        "    person_id = df['person_id']\n",
        "    ids = person_id.iloc[0]\n",
        "    new_mat = []\n",
        "    person=[]\n",
        "\n",
        "    for i in range(len(df)):  \n",
        "        if ids == person_id.iloc[i]:\n",
        "            person.append(X[i])\n",
        "            ids = person_id.iloc[i]\n",
        "        else:\n",
        "            new_mat.append(person)\n",
        "            person=[]\n",
        "            person.append(X[i])\n",
        "            ids = person_id.iloc[i]\n",
        "    new_mat.append(person)\n",
        "    \n",
        "    return new_mat"
      ],
      "execution_count": null,
      "outputs": []
    },
    {
      "cell_type": "markdown",
      "metadata": {
        "id": "vYQDeeR75RI_"
      },
      "source": [
        "### Padding & Convert to tensor\n",
        "##### 올바른 RNN 학습을 위해 가변길이의 데이터를 같은 길이로 늘려주는 작업(padding)과\n",
        "##### array 형태의 데이터 형식을 RNN 학습에 용이한 Tensor로 변환하는 과정"
      ]
    },
    {
      "cell_type": "code",
      "metadata": {
        "id": "8l19U_Qq5RI_"
      },
      "source": [
        "from tensorflow.keras.preprocessing.sequence import pad_sequences"
      ],
      "execution_count": null,
      "outputs": []
    },
    {
      "cell_type": "code",
      "metadata": {
        "id": "Dg-fikKN5RJB"
      },
      "source": [
        "def convert(new_mat):\n",
        "    \n",
        "    max_len=0\n",
        "    for data in new_mat:\n",
        "        if len(data)>max_len:\n",
        "            max_len = len(data)\n",
        "\n",
        "    X_data = pad_sequences(new_mat, padding='post',value=-1, maxlen=max_len)\n",
        "    X_data = tf.convert_to_tensor(X_data, dtype=tf.float32)\n",
        "    \n",
        "    return X_data"
      ],
      "execution_count": null,
      "outputs": []
    },
    {
      "cell_type": "code",
      "metadata": {
        "id": "yuCWgxB_5RJD"
      },
      "source": [
        "# Pretreatment\n",
        "X = pipeline(cg_df)\n",
        "\n",
        "# convert to 3D Array\n",
        "new_mat = make_metrics(cg_df, X)\n",
        "\n",
        "# Padding & Conver to tensor\n",
        "X_data = convert(new_mat)"
      ],
      "execution_count": null,
      "outputs": []
    },
    {
      "cell_type": "markdown",
      "metadata": {
        "id": "UFCvS0wN5RJF"
      },
      "source": [
        "### Train / Test data"
      ]
    },
    {
      "cell_type": "code",
      "metadata": {
        "id": "u2BzA_T-5RJG"
      },
      "source": [
        "from tensorflow.keras.utils import to_categorical"
      ],
      "execution_count": null,
      "outputs": []
    },
    {
      "cell_type": "code",
      "metadata": {
        "id": "cC_Jg8Wt5RJJ"
      },
      "source": [
        "train_x = X_data[:int(0.7*len(X_data))]\n",
        "test_x = X_data[int(0.7*len(X_data)):]\n",
        "\n",
        "train_y = y_label[:int(0.7*len(X_data))]\n",
        "test_y = y_label[int(0.7*len(X_data)):]\n",
        "\n",
        "train_y1 = to_categorical(train_y)\n",
        "test_y1 = to_categorical(test_y)"
      ],
      "execution_count": null,
      "outputs": []
    },
    {
      "cell_type": "code",
      "metadata": {
        "id": "US4oySnk5RJL",
        "outputId": "f074ec09-e011-46ea-8c32-5e0c3404696a",
        "colab": {
          "base_uri": "https://localhost:8080/",
          "height": 89
        }
      },
      "source": [
        "print('Train data : %d' %len(train_x))\n",
        "print('Test data : %d' %len(test_x))\n",
        "\n",
        "print('Train data label => %s' %Counter(train_y))\n",
        "print('Test data label => %s' %Counter(test_y))"
      ],
      "execution_count": null,
      "outputs": [
        {
          "output_type": "stream",
          "text": [
            "Train data : 350\n",
            "Test data : 150\n",
            "Train data label => Counter({0: 176, 1: 174})\n",
            "Test data label => Counter({1: 76, 0: 74})\n"
          ],
          "name": "stdout"
        }
      ]
    },
    {
      "cell_type": "markdown",
      "metadata": {
        "id": "Xc8a1aR35RJN"
      },
      "source": [
        "### RNN Model"
      ]
    },
    {
      "cell_type": "code",
      "metadata": {
        "id": "dLnnMYD25RJO"
      },
      "source": [
        "from tensorflow.keras.layers import Dense,SimpleRNN,LSTM\n",
        "from tensorflow.keras.models import Sequential\n",
        "from tensorflow.keras.optimizers import RMSprop"
      ],
      "execution_count": null,
      "outputs": []
    },
    {
      "cell_type": "code",
      "metadata": {
        "id": "V8vT_qwc5RJQ"
      },
      "source": [
        "model = Sequential()\n",
        "model.add(SimpleRNN(16, input_shape=(train_x.shape[1:]),return_sequences=True))\n",
        "model.add(SimpleRNN(16,  return_sequences=True))\n",
        "model.add(SimpleRNN(16, return_sequences=False))\n",
        "model.add(Dense(2, activation='softmax'))"
      ],
      "execution_count": null,
      "outputs": []
    },
    {
      "cell_type": "code",
      "metadata": {
        "id": "DhdZ2k1N5RJS"
      },
      "source": [
        "model = Sequential()\n",
        "model.add(LSTM(16, input_shape=(train_x.shape[1:]),return_sequences=True))\n",
        "model.add(LSTM(16,  return_sequences=True))\n",
        "model.add(LSTM(16, return_sequences=False))\n",
        "model.add(Dense(2, activation='softmax'))"
      ],
      "execution_count": null,
      "outputs": []
    },
    {
      "cell_type": "code",
      "metadata": {
        "id": "THerWDWo5RJU",
        "outputId": "4358fdcf-2c01-4fdd-dcdf-0a1e2e46a404",
        "colab": {
          "base_uri": "https://localhost:8080/",
          "height": 305
        }
      },
      "source": [
        "# RNN Model Summary\n",
        "\n",
        "model.summary()"
      ],
      "execution_count": null,
      "outputs": [
        {
          "output_type": "stream",
          "text": [
            "Model: \"sequential\"\n",
            "_________________________________________________________________\n",
            "Layer (type)                 Output Shape              Param #   \n",
            "=================================================================\n",
            "simple_rnn (SimpleRNN)       (None, 10, 16)            432       \n",
            "_________________________________________________________________\n",
            "simple_rnn_1 (SimpleRNN)     (None, 10, 16)            528       \n",
            "_________________________________________________________________\n",
            "simple_rnn_2 (SimpleRNN)     (None, 16)                528       \n",
            "_________________________________________________________________\n",
            "dense (Dense)                (None, 2)                 34        \n",
            "=================================================================\n",
            "Total params: 1,522\n",
            "Trainable params: 1,522\n",
            "Non-trainable params: 0\n",
            "_________________________________________________________________\n"
          ],
          "name": "stdout"
        }
      ]
    },
    {
      "cell_type": "code",
      "metadata": {
        "id": "qPKeeIFh5RJX",
        "outputId": "7eca8dbb-807e-4d10-c555-92d136ab7ec2",
        "colab": {
          "base_uri": "https://localhost:8080/",
          "height": 1000
        }
      },
      "source": [
        "model.compile(optimizer=RMSprop(),loss='binary_crossentropy',metrics=['accuracy'])\n",
        "\n",
        "model.fit(train_x,train_y1,epochs=100,batch_size=64,validation_split=0.2)"
      ],
      "execution_count": null,
      "outputs": [
        {
          "output_type": "stream",
          "text": [
            "Epoch 1/100\n",
            "5/5 [==============================] - 1s 204ms/step - loss: 0.6900 - accuracy: 0.5679 - val_loss: 0.6896 - val_accuracy: 0.5000\n",
            "Epoch 2/100\n",
            "5/5 [==============================] - 0s 13ms/step - loss: 0.6794 - accuracy: 0.5714 - val_loss: 0.6898 - val_accuracy: 0.5286\n",
            "Epoch 3/100\n",
            "5/5 [==============================] - 0s 12ms/step - loss: 0.6702 - accuracy: 0.5964 - val_loss: 0.6911 - val_accuracy: 0.5429\n",
            "Epoch 4/100\n",
            "5/5 [==============================] - 0s 12ms/step - loss: 0.6591 - accuracy: 0.6036 - val_loss: 0.6876 - val_accuracy: 0.5714\n",
            "Epoch 5/100\n",
            "5/5 [==============================] - 0s 13ms/step - loss: 0.6537 - accuracy: 0.6250 - val_loss: 0.6909 - val_accuracy: 0.5714\n",
            "Epoch 6/100\n",
            "5/5 [==============================] - 0s 12ms/step - loss: 0.6405 - accuracy: 0.6143 - val_loss: 0.6908 - val_accuracy: 0.5857\n",
            "Epoch 7/100\n",
            "5/5 [==============================] - 0s 15ms/step - loss: 0.6326 - accuracy: 0.6214 - val_loss: 0.6905 - val_accuracy: 0.5571\n",
            "Epoch 8/100\n",
            "5/5 [==============================] - 0s 13ms/step - loss: 0.6282 - accuracy: 0.6464 - val_loss: 0.6910 - val_accuracy: 0.5857\n",
            "Epoch 9/100\n",
            "5/5 [==============================] - 0s 13ms/step - loss: 0.6204 - accuracy: 0.6607 - val_loss: 0.6955 - val_accuracy: 0.6000\n",
            "Epoch 10/100\n",
            "5/5 [==============================] - 0s 13ms/step - loss: 0.6196 - accuracy: 0.6214 - val_loss: 0.6936 - val_accuracy: 0.5714\n",
            "Epoch 11/100\n",
            "5/5 [==============================] - 0s 13ms/step - loss: 0.6104 - accuracy: 0.6500 - val_loss: 0.6886 - val_accuracy: 0.6286\n",
            "Epoch 12/100\n",
            "5/5 [==============================] - 0s 13ms/step - loss: 0.6006 - accuracy: 0.6786 - val_loss: 0.6866 - val_accuracy: 0.6000\n",
            "Epoch 13/100\n",
            "5/5 [==============================] - 0s 13ms/step - loss: 0.5995 - accuracy: 0.6714 - val_loss: 0.6948 - val_accuracy: 0.6000\n",
            "Epoch 14/100\n",
            "5/5 [==============================] - 0s 17ms/step - loss: 0.6023 - accuracy: 0.6607 - val_loss: 0.6828 - val_accuracy: 0.6143\n",
            "Epoch 15/100\n",
            "5/5 [==============================] - 0s 17ms/step - loss: 0.5889 - accuracy: 0.6821 - val_loss: 0.6854 - val_accuracy: 0.5857\n",
            "Epoch 16/100\n",
            "5/5 [==============================] - 0s 13ms/step - loss: 0.5841 - accuracy: 0.6679 - val_loss: 0.6762 - val_accuracy: 0.6286\n",
            "Epoch 17/100\n",
            "5/5 [==============================] - 0s 13ms/step - loss: 0.5836 - accuracy: 0.6857 - val_loss: 0.7055 - val_accuracy: 0.5429\n",
            "Epoch 18/100\n",
            "5/5 [==============================] - 0s 13ms/step - loss: 0.5849 - accuracy: 0.6607 - val_loss: 0.6810 - val_accuracy: 0.6286\n",
            "Epoch 19/100\n",
            "5/5 [==============================] - 0s 13ms/step - loss: 0.5727 - accuracy: 0.6929 - val_loss: 0.6818 - val_accuracy: 0.6143\n",
            "Epoch 20/100\n",
            "5/5 [==============================] - 0s 13ms/step - loss: 0.5691 - accuracy: 0.6857 - val_loss: 0.6800 - val_accuracy: 0.6143\n",
            "Epoch 21/100\n",
            "5/5 [==============================] - 0s 13ms/step - loss: 0.5889 - accuracy: 0.6607 - val_loss: 0.6881 - val_accuracy: 0.6429\n",
            "Epoch 22/100\n",
            "5/5 [==============================] - 0s 13ms/step - loss: 0.5686 - accuracy: 0.7107 - val_loss: 0.6824 - val_accuracy: 0.6000\n",
            "Epoch 23/100\n",
            "5/5 [==============================] - 0s 14ms/step - loss: 0.5636 - accuracy: 0.6929 - val_loss: 0.6880 - val_accuracy: 0.6286\n",
            "Epoch 24/100\n",
            "5/5 [==============================] - 0s 14ms/step - loss: 0.5661 - accuracy: 0.6964 - val_loss: 0.6776 - val_accuracy: 0.6286\n",
            "Epoch 25/100\n",
            "5/5 [==============================] - 0s 13ms/step - loss: 0.5662 - accuracy: 0.6893 - val_loss: 0.6848 - val_accuracy: 0.5857\n",
            "Epoch 26/100\n",
            "5/5 [==============================] - 0s 13ms/step - loss: 0.5664 - accuracy: 0.6786 - val_loss: 0.6771 - val_accuracy: 0.6286\n",
            "Epoch 27/100\n",
            "5/5 [==============================] - 0s 13ms/step - loss: 0.5631 - accuracy: 0.7000 - val_loss: 0.6851 - val_accuracy: 0.6286\n",
            "Epoch 28/100\n",
            "5/5 [==============================] - 0s 13ms/step - loss: 0.5593 - accuracy: 0.6929 - val_loss: 0.7022 - val_accuracy: 0.6143\n",
            "Epoch 29/100\n",
            "5/5 [==============================] - 0s 13ms/step - loss: 0.5595 - accuracy: 0.7036 - val_loss: 0.6894 - val_accuracy: 0.6286\n",
            "Epoch 30/100\n",
            "5/5 [==============================] - 0s 12ms/step - loss: 0.5558 - accuracy: 0.7143 - val_loss: 0.6882 - val_accuracy: 0.5857\n",
            "Epoch 31/100\n",
            "5/5 [==============================] - 0s 15ms/step - loss: 0.5602 - accuracy: 0.6857 - val_loss: 0.6849 - val_accuracy: 0.5714\n",
            "Epoch 32/100\n",
            "5/5 [==============================] - 0s 13ms/step - loss: 0.5530 - accuracy: 0.6821 - val_loss: 0.6921 - val_accuracy: 0.6000\n",
            "Epoch 33/100\n",
            "5/5 [==============================] - 0s 15ms/step - loss: 0.5494 - accuracy: 0.6821 - val_loss: 0.6972 - val_accuracy: 0.6143\n",
            "Epoch 34/100\n",
            "5/5 [==============================] - 0s 15ms/step - loss: 0.5456 - accuracy: 0.7036 - val_loss: 0.7001 - val_accuracy: 0.6000\n",
            "Epoch 35/100\n",
            "5/5 [==============================] - 0s 13ms/step - loss: 0.5452 - accuracy: 0.7107 - val_loss: 0.6893 - val_accuracy: 0.6286\n",
            "Epoch 36/100\n",
            "5/5 [==============================] - 0s 13ms/step - loss: 0.5448 - accuracy: 0.6964 - val_loss: 0.7015 - val_accuracy: 0.6286\n",
            "Epoch 37/100\n",
            "5/5 [==============================] - 0s 13ms/step - loss: 0.5372 - accuracy: 0.7179 - val_loss: 0.6988 - val_accuracy: 0.6286\n",
            "Epoch 38/100\n",
            "5/5 [==============================] - 0s 14ms/step - loss: 0.5454 - accuracy: 0.6929 - val_loss: 0.7058 - val_accuracy: 0.6143\n",
            "Epoch 39/100\n",
            "5/5 [==============================] - 0s 15ms/step - loss: 0.5380 - accuracy: 0.7107 - val_loss: 0.7368 - val_accuracy: 0.5571\n",
            "Epoch 40/100\n",
            "5/5 [==============================] - 0s 13ms/step - loss: 0.5435 - accuracy: 0.6964 - val_loss: 0.7160 - val_accuracy: 0.6571\n",
            "Epoch 41/100\n",
            "5/5 [==============================] - 0s 13ms/step - loss: 0.5389 - accuracy: 0.6929 - val_loss: 0.7457 - val_accuracy: 0.5286\n",
            "Epoch 42/100\n",
            "5/5 [==============================] - 0s 13ms/step - loss: 0.5382 - accuracy: 0.7071 - val_loss: 0.7083 - val_accuracy: 0.6429\n",
            "Epoch 43/100\n",
            "5/5 [==============================] - 0s 15ms/step - loss: 0.5451 - accuracy: 0.6857 - val_loss: 0.6993 - val_accuracy: 0.5857\n",
            "Epoch 44/100\n",
            "5/5 [==============================] - 0s 13ms/step - loss: 0.5319 - accuracy: 0.7321 - val_loss: 0.7018 - val_accuracy: 0.6000\n",
            "Epoch 45/100\n",
            "5/5 [==============================] - 0s 13ms/step - loss: 0.5312 - accuracy: 0.7179 - val_loss: 0.6904 - val_accuracy: 0.6143\n",
            "Epoch 46/100\n",
            "5/5 [==============================] - 0s 16ms/step - loss: 0.5313 - accuracy: 0.7179 - val_loss: 0.7008 - val_accuracy: 0.5714\n",
            "Epoch 47/100\n",
            "5/5 [==============================] - 0s 14ms/step - loss: 0.5292 - accuracy: 0.7214 - val_loss: 0.7104 - val_accuracy: 0.6286\n",
            "Epoch 48/100\n",
            "5/5 [==============================] - 0s 17ms/step - loss: 0.5341 - accuracy: 0.7071 - val_loss: 0.7170 - val_accuracy: 0.6143\n",
            "Epoch 49/100\n",
            "5/5 [==============================] - 0s 18ms/step - loss: 0.5400 - accuracy: 0.6893 - val_loss: 0.7307 - val_accuracy: 0.6000\n",
            "Epoch 50/100\n",
            "5/5 [==============================] - 0s 17ms/step - loss: 0.5214 - accuracy: 0.7036 - val_loss: 0.7273 - val_accuracy: 0.6143\n",
            "Epoch 51/100\n",
            "5/5 [==============================] - 0s 14ms/step - loss: 0.5220 - accuracy: 0.7143 - val_loss: 0.7408 - val_accuracy: 0.5714\n",
            "Epoch 52/100\n",
            "5/5 [==============================] - 0s 13ms/step - loss: 0.5276 - accuracy: 0.7250 - val_loss: 0.7030 - val_accuracy: 0.6143\n",
            "Epoch 53/100\n",
            "5/5 [==============================] - 0s 14ms/step - loss: 0.5211 - accuracy: 0.7000 - val_loss: 0.7208 - val_accuracy: 0.6143\n",
            "Epoch 54/100\n",
            "5/5 [==============================] - 0s 15ms/step - loss: 0.5275 - accuracy: 0.7036 - val_loss: 0.7353 - val_accuracy: 0.6143\n",
            "Epoch 55/100\n",
            "5/5 [==============================] - 0s 13ms/step - loss: 0.5179 - accuracy: 0.7107 - val_loss: 0.7984 - val_accuracy: 0.5429\n",
            "Epoch 56/100\n",
            "5/5 [==============================] - 0s 13ms/step - loss: 0.5207 - accuracy: 0.7286 - val_loss: 0.7382 - val_accuracy: 0.5857\n",
            "Epoch 57/100\n",
            "5/5 [==============================] - 0s 13ms/step - loss: 0.5211 - accuracy: 0.7179 - val_loss: 0.7249 - val_accuracy: 0.6286\n",
            "Epoch 58/100\n",
            "5/5 [==============================] - 0s 14ms/step - loss: 0.5109 - accuracy: 0.7250 - val_loss: 0.7482 - val_accuracy: 0.6143\n",
            "Epoch 59/100\n",
            "5/5 [==============================] - 0s 16ms/step - loss: 0.5236 - accuracy: 0.7357 - val_loss: 0.7393 - val_accuracy: 0.6143\n",
            "Epoch 60/100\n",
            "5/5 [==============================] - 0s 19ms/step - loss: 0.5199 - accuracy: 0.7143 - val_loss: 0.7800 - val_accuracy: 0.5857\n",
            "Epoch 61/100\n",
            "5/5 [==============================] - 0s 15ms/step - loss: 0.5209 - accuracy: 0.7143 - val_loss: 0.8143 - val_accuracy: 0.5429\n",
            "Epoch 62/100\n",
            "5/5 [==============================] - 0s 13ms/step - loss: 0.5208 - accuracy: 0.7179 - val_loss: 0.7345 - val_accuracy: 0.5571\n",
            "Epoch 63/100\n",
            "5/5 [==============================] - 0s 13ms/step - loss: 0.5208 - accuracy: 0.7286 - val_loss: 0.7476 - val_accuracy: 0.5571\n",
            "Epoch 64/100\n",
            "5/5 [==============================] - 0s 13ms/step - loss: 0.5074 - accuracy: 0.7143 - val_loss: 0.7495 - val_accuracy: 0.5857\n",
            "Epoch 65/100\n",
            "5/5 [==============================] - 0s 16ms/step - loss: 0.5161 - accuracy: 0.7571 - val_loss: 0.7387 - val_accuracy: 0.6000\n",
            "Epoch 66/100\n",
            "5/5 [==============================] - 0s 13ms/step - loss: 0.5120 - accuracy: 0.7143 - val_loss: 0.7543 - val_accuracy: 0.5571\n",
            "Epoch 67/100\n",
            "5/5 [==============================] - 0s 13ms/step - loss: 0.5093 - accuracy: 0.7107 - val_loss: 0.7530 - val_accuracy: 0.5571\n",
            "Epoch 68/100\n",
            "5/5 [==============================] - 0s 13ms/step - loss: 0.5036 - accuracy: 0.7321 - val_loss: 0.7326 - val_accuracy: 0.6286\n",
            "Epoch 69/100\n",
            "5/5 [==============================] - 0s 13ms/step - loss: 0.5037 - accuracy: 0.7214 - val_loss: 0.7425 - val_accuracy: 0.6143\n",
            "Epoch 70/100\n",
            "5/5 [==============================] - 0s 13ms/step - loss: 0.4953 - accuracy: 0.7357 - val_loss: 0.7501 - val_accuracy: 0.6143\n",
            "Epoch 71/100\n",
            "5/5 [==============================] - 0s 16ms/step - loss: 0.4984 - accuracy: 0.7286 - val_loss: 0.7598 - val_accuracy: 0.6000\n",
            "Epoch 72/100\n",
            "5/5 [==============================] - 0s 16ms/step - loss: 0.4959 - accuracy: 0.7286 - val_loss: 0.8402 - val_accuracy: 0.5429\n",
            "Epoch 73/100\n",
            "5/5 [==============================] - 0s 16ms/step - loss: 0.5255 - accuracy: 0.7286 - val_loss: 0.7723 - val_accuracy: 0.5714\n",
            "Epoch 74/100\n",
            "5/5 [==============================] - 0s 14ms/step - loss: 0.4951 - accuracy: 0.7429 - val_loss: 0.7953 - val_accuracy: 0.5571\n",
            "Epoch 75/100\n",
            "5/5 [==============================] - 0s 17ms/step - loss: 0.4914 - accuracy: 0.7357 - val_loss: 0.8290 - val_accuracy: 0.5857\n",
            "Epoch 76/100\n",
            "5/5 [==============================] - 0s 16ms/step - loss: 0.4869 - accuracy: 0.7393 - val_loss: 0.8097 - val_accuracy: 0.5571\n",
            "Epoch 77/100\n",
            "5/5 [==============================] - 0s 13ms/step - loss: 0.5158 - accuracy: 0.7393 - val_loss: 0.8012 - val_accuracy: 0.5857\n",
            "Epoch 78/100\n",
            "5/5 [==============================] - 0s 13ms/step - loss: 0.4885 - accuracy: 0.7500 - val_loss: 0.7915 - val_accuracy: 0.6143\n",
            "Epoch 79/100\n",
            "5/5 [==============================] - 0s 15ms/step - loss: 0.4919 - accuracy: 0.7571 - val_loss: 0.8064 - val_accuracy: 0.5714\n",
            "Epoch 80/100\n",
            "5/5 [==============================] - 0s 13ms/step - loss: 0.4958 - accuracy: 0.7179 - val_loss: 0.8092 - val_accuracy: 0.6000\n",
            "Epoch 81/100\n",
            "5/5 [==============================] - 0s 13ms/step - loss: 0.4775 - accuracy: 0.7643 - val_loss: 0.7925 - val_accuracy: 0.6000\n",
            "Epoch 82/100\n",
            "5/5 [==============================] - 0s 13ms/step - loss: 0.4917 - accuracy: 0.7357 - val_loss: 0.7936 - val_accuracy: 0.6000\n",
            "Epoch 83/100\n",
            "5/5 [==============================] - 0s 15ms/step - loss: 0.4859 - accuracy: 0.7607 - val_loss: 0.8134 - val_accuracy: 0.5571\n",
            "Epoch 84/100\n",
            "5/5 [==============================] - 0s 13ms/step - loss: 0.4794 - accuracy: 0.7571 - val_loss: 0.8091 - val_accuracy: 0.5714\n",
            "Epoch 85/100\n",
            "5/5 [==============================] - 0s 13ms/step - loss: 0.4771 - accuracy: 0.7643 - val_loss: 0.8394 - val_accuracy: 0.5857\n",
            "Epoch 86/100\n",
            "5/5 [==============================] - 0s 13ms/step - loss: 0.4814 - accuracy: 0.7536 - val_loss: 0.7954 - val_accuracy: 0.5714\n",
            "Epoch 87/100\n",
            "5/5 [==============================] - 0s 13ms/step - loss: 0.4908 - accuracy: 0.7607 - val_loss: 0.7881 - val_accuracy: 0.5714\n",
            "Epoch 88/100\n",
            "5/5 [==============================] - 0s 17ms/step - loss: 0.4698 - accuracy: 0.7714 - val_loss: 0.8218 - val_accuracy: 0.6143\n",
            "Epoch 89/100\n",
            "5/5 [==============================] - 0s 13ms/step - loss: 0.5049 - accuracy: 0.7250 - val_loss: 0.8712 - val_accuracy: 0.5429\n",
            "Epoch 90/100\n",
            "5/5 [==============================] - 0s 13ms/step - loss: 0.4803 - accuracy: 0.7500 - val_loss: 0.7996 - val_accuracy: 0.6143\n",
            "Epoch 91/100\n",
            "5/5 [==============================] - 0s 14ms/step - loss: 0.4710 - accuracy: 0.7571 - val_loss: 0.8200 - val_accuracy: 0.6000\n",
            "Epoch 92/100\n",
            "5/5 [==============================] - 0s 15ms/step - loss: 0.4697 - accuracy: 0.7607 - val_loss: 0.8194 - val_accuracy: 0.6000\n",
            "Epoch 93/100\n",
            "5/5 [==============================] - 0s 14ms/step - loss: 0.4758 - accuracy: 0.7464 - val_loss: 0.8400 - val_accuracy: 0.6143\n",
            "Epoch 94/100\n",
            "5/5 [==============================] - 0s 13ms/step - loss: 0.4856 - accuracy: 0.7643 - val_loss: 0.8274 - val_accuracy: 0.6143\n",
            "Epoch 95/100\n",
            "5/5 [==============================] - 0s 13ms/step - loss: 0.4760 - accuracy: 0.7607 - val_loss: 0.8284 - val_accuracy: 0.6286\n",
            "Epoch 96/100\n",
            "5/5 [==============================] - 0s 13ms/step - loss: 0.4696 - accuracy: 0.7643 - val_loss: 0.8550 - val_accuracy: 0.6143\n",
            "Epoch 97/100\n",
            "5/5 [==============================] - 0s 14ms/step - loss: 0.4759 - accuracy: 0.7607 - val_loss: 0.8645 - val_accuracy: 0.6000\n",
            "Epoch 98/100\n",
            "5/5 [==============================] - 0s 14ms/step - loss: 0.4961 - accuracy: 0.7393 - val_loss: 0.8308 - val_accuracy: 0.5571\n",
            "Epoch 99/100\n",
            "5/5 [==============================] - 0s 15ms/step - loss: 0.4656 - accuracy: 0.7857 - val_loss: 0.8520 - val_accuracy: 0.6143\n",
            "Epoch 100/100\n",
            "5/5 [==============================] - 0s 13ms/step - loss: 0.4774 - accuracy: 0.7500 - val_loss: 0.8466 - val_accuracy: 0.5714\n"
          ],
          "name": "stdout"
        },
        {
          "output_type": "execute_result",
          "data": {
            "text/plain": [
              "<tensorflow.python.keras.callbacks.History at 0x7fc8b6761ba8>"
            ]
          },
          "metadata": {
            "tags": []
          },
          "execution_count": 30
        }
      ]
    },
    {
      "cell_type": "markdown",
      "metadata": {
        "id": "ixhprkqM5RJZ"
      },
      "source": [
        "### Confusion Matrix"
      ]
    },
    {
      "cell_type": "code",
      "metadata": {
        "id": "NPrgGNLw5RJZ"
      },
      "source": [
        "from sklearn.metrics import confusion_matrix,classification_report"
      ],
      "execution_count": null,
      "outputs": []
    },
    {
      "cell_type": "code",
      "metadata": {
        "id": "y9_O9E195RJb"
      },
      "source": [
        "test_pred = model.predict_classes(test_x)\n",
        "\n",
        "test_pred = [a for a in test_pred]"
      ],
      "execution_count": null,
      "outputs": []
    },
    {
      "cell_type": "code",
      "metadata": {
        "id": "i1a_y--F5RJd"
      },
      "source": [
        "#test_pred"
      ],
      "execution_count": null,
      "outputs": []
    },
    {
      "cell_type": "code",
      "metadata": {
        "id": "8RgJj_1h5RJg",
        "outputId": "328e6193-e2a7-4b37-fa8e-fc0305fc69ef",
        "colab": {
          "base_uri": "https://localhost:8080/",
          "height": 53
        }
      },
      "source": [
        "print('predict label => %s' %Counter(test_pred))\n",
        "print('real label => %s' %Counter(test_y))"
      ],
      "execution_count": null,
      "outputs": [
        {
          "output_type": "stream",
          "text": [
            "predict label => Counter({0: 97, 1: 53})\n",
            "real label => Counter({1: 76, 0: 74})\n"
          ],
          "name": "stdout"
        }
      ]
    },
    {
      "cell_type": "code",
      "metadata": {
        "id": "-Tdwl8D95RJj",
        "outputId": "a65ca122-c168-40e1-d678-892605ca2fd4",
        "colab": {
          "base_uri": "https://localhost:8080/",
          "height": 53
        }
      },
      "source": [
        "print(confusion_matrix(test_y,test_pred,labels=[1,0]))"
      ],
      "execution_count": null,
      "outputs": [
        {
          "output_type": "stream",
          "text": [
            "[[36 40]\n",
            " [17 57]]\n"
          ],
          "name": "stdout"
        }
      ]
    },
    {
      "cell_type": "code",
      "metadata": {
        "id": "kAk-74Iz5RJl",
        "outputId": "f4fcd585-0ddb-42d3-80e9-4774313cee0c",
        "colab": {
          "base_uri": "https://localhost:8080/",
          "height": 179
        }
      },
      "source": [
        "print(classification_report(test_y,test_pred))"
      ],
      "execution_count": null,
      "outputs": [
        {
          "output_type": "stream",
          "text": [
            "              precision    recall  f1-score   support\n",
            "\n",
            "           0       0.59      0.77      0.67        74\n",
            "           1       0.68      0.47      0.56        76\n",
            "\n",
            "    accuracy                           0.62       150\n",
            "   macro avg       0.63      0.62      0.61       150\n",
            "weighted avg       0.63      0.62      0.61       150\n",
            "\n"
          ],
          "name": "stdout"
        }
      ]
    },
    {
      "cell_type": "markdown",
      "metadata": {
        "id": "N4fs8ptF5RJn"
      },
      "source": [
        "### ROC Curve & AUC"
      ]
    },
    {
      "cell_type": "code",
      "metadata": {
        "id": "fNkuRKgE5RJn"
      },
      "source": [
        "import matplotlib as mpl\n",
        "import matplotlib.pyplot as plt\n",
        "from sklearn import metrics"
      ],
      "execution_count": null,
      "outputs": []
    },
    {
      "cell_type": "code",
      "metadata": {
        "id": "_3GvqBLg5RJp",
        "outputId": "c026c960-ce81-4314-cf49-c738db5f6e20",
        "colab": {
          "base_uri": "https://localhost:8080/",
          "height": 313
        }
      },
      "source": [
        "fpr, tpr, thresholds = metrics.roc_curve(test_y, model.predict(test_x)[:,1]) #곡선 그리기\n",
        "\n",
        "plt.plot(fpr, tpr)\n",
        "plt.fill_between(fpr, tpr, color='y')\n",
        "plt.plot([0, 1], [0, 1], '--')\n",
        "plt.xlabel('False Positive Rate(1 - Specificity)')\n",
        "plt.ylabel('True Positive Rate(Sensitivity)')\n",
        "\n",
        "score = metrics.auc(fpr, tpr) #면적 구하기\n",
        "print(score) #1.0\n",
        "\n",
        "plt.title('ROC (Receiver Operating Characteristic) Curve (AUC = {})'.format(round(score,4)))\n",
        "plt.show()"
      ],
      "execution_count": null,
      "outputs": [
        {
          "output_type": "stream",
          "text": [
            "0.6881223328591749\n"
          ],
          "name": "stdout"
        },
        {
          "output_type": "display_data",
          "data": {
            "image/png": "[encoded data removed]",
            "text/plain": [
              "<Figure size 432x288 with 1 Axes>"
            ]
          },
          "metadata": {
            "tags": [],
            "needs_background": "light"
          }
        }
      ]
    },
    {
      "cell_type": "code",
      "metadata": {
        "id": "Bquucd9z5RJs"
      },
      "source": [
        ""
      ],
      "execution_count": null,
      "outputs": []
    },
    {
      "cell_type": "code",
      "metadata": {
        "id": "_PJYATz45RJu"
      },
      "source": [
        ""
      ],
      "execution_count": null,
      "outputs": []
    },
    {
      "cell_type": "code",
      "metadata": {
        "id": "5McuVcqQ5RJw"
      },
      "source": [
        ""
      ],
      "execution_count": null,
      "outputs": []
    }
  ]
}